{
  "nbformat": 4,
  "nbformat_minor": 0,
  "metadata": {
    "colab": {
      "name": "Python_Final_Project.ipynb",
      "provenance": [],
      "include_colab_link": true
    },
    "kernelspec": {
      "name": "python3",
      "display_name": "Python 3"
    }
  },
  "cells": [
    {
      "cell_type": "markdown",
      "metadata": {
        "id": "view-in-github",
        "colab_type": "text"
      },
      "source": [
        "<a href=\"https://colab.research.google.com/github/tempcheng/CS65_Final_project/blob/master/Python_Final_Project.ipynb\" target=\"_parent\"><img src=\"https://colab.research.google.com/assets/colab-badge.svg\" alt=\"Open In Colab\"/></a>"
      ]
    },
    {
      "cell_type": "markdown",
      "metadata": {
        "id": "BWkqko-rgsAl",
        "colab_type": "text"
      },
      "source": [
        ""
      ]
    },
    {
      "cell_type": "markdown",
      "metadata": {
        "id": "1nLAk8d1tTFh",
        "colab_type": "text"
      },
      "source": [
        "#Suicide Data Analysis\n",
        "\n",
        "This is **MarkDown**\n",
        "\n",
        "My data came from Keggle: https://www.kaggle.com/roche-data-science-coalition/uncover\n",
        "\n",
        "I intended to find the correlation between suicide rate vs. age, genda and GDP. Also was hoping to predict the suicide rate. \n",
        "\n",
        "What I really found out was suicide rate is positively correlated with age. Looking at the time series, suicide rate increased from 1.15% to 1.53% between 1985 to 1995 and dropped to 1.18%. \n",
        "\n",
        "Also, from the clustering analysis, the most important factor to determine suicide rate is GDP which is aligned with my hypothesis. I didn't get chance to build a model to predict the suicide rate. \n",
        "\n"
      ]
    },
    {
      "cell_type": "code",
      "metadata": {
        "id": "rZZ6CIcxoCOw",
        "colab_type": "code",
        "colab": {}
      },
      "source": [
        "%matplotlib inline\n",
        "import fancyimpute\n",
        "import matplotlib\n",
        "import matplotlib.pyplot as plt\n",
        "import missingno as mn\n",
        "import numpy as np\n",
        "import pandas as pd\n",
        "import matplotlib.dates as mdt\n",
        "import seaborn as sns\n",
        "import matplotlib.ticker as ticker\n",
        "from sklearn import decomposition, preprocessing, cluster, tree\n",
        "from yellowbrick.cluster.silhouette import SilhouetteVisualizer\n",
        "from scipy.cluster import hierarchy\n",
        "\n",
        "\n",
        "import io\n",
        "import urllib.request as req\n",
        "import zipfile"
      ],
      "execution_count": null,
      "outputs": []
    },
    {
      "cell_type": "code",
      "metadata": {
        "id": "6KuvaEB4pWr9",
        "colab_type": "code",
        "colab": {
          "base_uri": "https://localhost:8080/",
          "height": 34
        },
        "outputId": "8ebfe6a3-af3d-4fcb-b519-6902b8496b9d"
      },
      "source": [
        "url = 'https://github.com/tempcheng/python_homework/raw/master/suicide-rates-overview-1985-to-2016.zip'\n",
        "fin = req.urlopen(url)\n",
        "\n",
        "with zipfile.ZipFile(io.BytesIO(fin.read())) as z:\n",
        "  print(z.namelist())\n",
        "  kag = pd.read_csv(z.open('master.csv'))\n",
        "  kag_suicide = kag.iloc[0]\n",
        "  df = kag.iloc[1:]"
      ],
      "execution_count": null,
      "outputs": [
        {
          "output_type": "stream",
          "text": [
            "['master.csv']\n"
          ],
          "name": "stdout"
        }
      ]
    },
    {
      "cell_type": "markdown",
      "metadata": {
        "id": "y3C0DKjbQhqi",
        "colab_type": "text"
      },
      "source": [
        "##Start clean up the data"
      ]
    },
    {
      "cell_type": "code",
      "metadata": {
        "id": "nK_SCcFrqWJt",
        "colab_type": "code",
        "colab": {}
      },
      "source": [
        "def fix_col(col):\n",
        "  return col.replace(' ', '_').rstrip('.').lstrip('/')\n",
        "\n",
        "def tweak_alta(df):\n",
        "\n",
        "  return (df\n",
        "   .rename(columns=fix_col)\n",
        "  )\n",
        "\n",
        "df = tweak_alta(df)\n",
        "\n",
        "df.rename(columns={'country-year':'country_year'}, \n",
        "                 inplace=True)\n",
        "\n",
        "df.rename(columns={'_gdp_for_year_($)_':'gdp_for_year'}, \n",
        "                 inplace=True)\n",
        "\n",
        "df.rename(columns={'suicides/100k_pop':'suicide_rate'}, inplace=True )\n",
        "\n",
        "df.rename(columns={'gdp_per_capita_($)':'gdp_per_capita'}, inplace=True )\n",
        "\n",
        "df['gdp_for_year'] = df.gdp_for_year.str.split(',').str.join('').astype(int)\n"
      ],
      "execution_count": null,
      "outputs": []
    },
    {
      "cell_type": "markdown",
      "metadata": {
        "id": "uD4bBnwZQ0F6",
        "colab_type": "text"
      },
      "source": [
        "#Exploring the data"
      ]
    },
    {
      "cell_type": "code",
      "metadata": {
        "id": "wyQVGKJUQ3xB",
        "colab_type": "code",
        "colab": {
          "base_uri": "https://localhost:8080/",
          "height": 364
        },
        "outputId": "c7b05958-f0a8-4b9c-c470-b070a344f861"
      },
      "source": [
        "df.suicide_rate.plot.box()"
      ],
      "execution_count": null,
      "outputs": [
        {
          "output_type": "execute_result",
          "data": {
            "text/plain": [
              "<matplotlib.axes._subplots.AxesSubplot at 0x7fcddd20e048>"
            ]
          },
          "metadata": {
            "tags": []
          },
          "execution_count": 5
        },
        {
          "output_type": "display_data",
          "data": {
            "image/png": "[encoded data removed]",
            "text/plain": [
              "<Figure size 576x396 with 1 Axes>"
            ]
          },
          "metadata": {
            "tags": []
          }
        }
      ]
    },
    {
      "cell_type": "markdown",
      "metadata": {
        "id": "QtooBHcpG8U5",
        "colab_type": "text"
      },
      "source": [
        "Interesting fact: The average suicide rate(suicides/100k_pop) is at 12.8, 50th percentile is 6 and 75th percential is 16.6. In country Aruba in 1995, the suicide rate for male who are 75+ years is 225. Looking further, that’s because there are only 889 people fall into this bucket and that year there were 2 people committed suicide. Another outlier is 2006 in Seychelles, the suicide rate for male who are 75+ years old is 205. Also noticing super small sample size: there are only 2 people committed suicide in this category. "
      ]
    },
    {
      "cell_type": "markdown",
      "metadata": {
        "id": "m1SuJiJLYRNH",
        "colab_type": "text"
      },
      "source": [
        "\n",
        "\n",
        "**Draw a chart to find correlation between age and suicide rate**"
      ]
    },
    {
      "cell_type": "code",
      "metadata": {
        "id": "4ds1T6V5RTfJ",
        "colab_type": "code",
        "colab": {
          "base_uri": "https://localhost:8080/",
          "height": 266
        },
        "outputId": "b1436298-40f9-4101-d83a-8e8fa64cdf0a"
      },
      "source": [
        "age_bucket = [ '5-14 years', '15-24 years', '25-34 years', '35-54 years', '55-74 years', '75+ years']\n",
        "\n",
        "suicide_by_age = (df\n",
        "          .groupby(['age'])\n",
        "          .agg({'population':'sum','suicides_no':'sum'})\n",
        "          .reindex(age_bucket))\n",
        "\n",
        "suicide_by_age['suicide_rate'] = suicide_by_age.suicides_no/suicide_by_age.population*100\n",
        "suicide_by_age\n"
      ],
      "execution_count": null,
      "outputs": [
        {
          "output_type": "execute_result",
          "data": {
            "text/html": [
              "<div>\n",
              "<style scoped>\n",
              "    .dataframe tbody tr th:only-of-type {\n",
              "        vertical-align: middle;\n",
              "    }\n",
              "\n",
              "    .dataframe tbody tr th {\n",
              "        vertical-align: top;\n",
              "    }\n",
              "\n",
              "    .dataframe thead th {\n",
              "        text-align: right;\n",
              "    }\n",
              "</style>\n",
              "<table border=\"1\" class=\"dataframe\">\n",
              "  <thead>\n",
              "    <tr style=\"text-align: right;\">\n",
              "      <th></th>\n",
              "      <th>population</th>\n",
              "      <th>suicides_no</th>\n",
              "      <th>suicide_rate</th>\n",
              "    </tr>\n",
              "    <tr>\n",
              "      <th>age</th>\n",
              "      <th></th>\n",
              "      <th></th>\n",
              "      <th></th>\n",
              "    </tr>\n",
              "  </thead>\n",
              "  <tbody>\n",
              "    <tr>\n",
              "      <th>5-14 years</th>\n",
              "      <td>8398693237</td>\n",
              "      <td>52264</td>\n",
              "      <td>0.000622</td>\n",
              "    </tr>\n",
              "    <tr>\n",
              "      <th>15-24 years</th>\n",
              "      <td>8642633996</td>\n",
              "      <td>808521</td>\n",
              "      <td>0.009355</td>\n",
              "    </tr>\n",
              "    <tr>\n",
              "      <th>25-34 years</th>\n",
              "      <td>8438103587</td>\n",
              "      <td>1123912</td>\n",
              "      <td>0.013319</td>\n",
              "    </tr>\n",
              "    <tr>\n",
              "      <th>35-54 years</th>\n",
              "      <td>14375888123</td>\n",
              "      <td>2452141</td>\n",
              "      <td>0.017057</td>\n",
              "    </tr>\n",
              "    <tr>\n",
              "      <th>55-74 years</th>\n",
              "      <td>8803245340</td>\n",
              "      <td>1658443</td>\n",
              "      <td>0.018839</td>\n",
              "    </tr>\n",
              "    <tr>\n",
              "      <th>75+ years</th>\n",
              "      <td>2663281253</td>\n",
              "      <td>653118</td>\n",
              "      <td>0.024523</td>\n",
              "    </tr>\n",
              "  </tbody>\n",
              "</table>\n",
              "</div>"
            ],
            "text/plain": [
              "              population  suicides_no  suicide_rate\n",
              "age                                                \n",
              "5-14 years    8398693237        52264      0.000622\n",
              "15-24 years   8642633996       808521      0.009355\n",
              "25-34 years   8438103587      1123912      0.013319\n",
              "35-54 years  14375888123      2452141      0.017057\n",
              "55-74 years   8803245340      1658443      0.018839\n",
              "75+ years     2663281253       653118      0.024523"
            ]
          },
          "metadata": {
            "tags": []
          },
          "execution_count": 6
        }
      ]
    },
    {
      "cell_type": "code",
      "metadata": {
        "id": "A6A4TTkZXgO7",
        "colab_type": "code",
        "colab": {}
      },
      "source": [
        "x = suicide_by_age.index\n",
        "y = suicide_by_age.suicide_rate"
      ],
      "execution_count": null,
      "outputs": []
    },
    {
      "cell_type": "code",
      "metadata": {
        "id": "2fhWBhSBXRZ6",
        "colab_type": "code",
        "colab": {
          "base_uri": "https://localhost:8080/",
          "height": 631
        },
        "outputId": "24eaa842-7d75-4a0e-97fd-1973dc7a77d8"
      },
      "source": [
        "\n",
        "with sns.color_palette('Reds'):\n",
        "  with sns.plotting_context('poster'):\n",
        "    with sns.axes_style('dark', {'axes.facecolor':'white'}):\n",
        "      fig, ax = plt.subplots(figsize=(10, 8))\n",
        "      sns.barplot(x, y, ax=ax)\n",
        "      ax.tick_params(axis='x', labelrotation=45)\n",
        "      ax.yaxis.set_major_formatter(ticker.PercentFormatter())\n",
        "      ax.set_title(\"Suicide Rate by Age\")\n",
        "      ax.set(ylabel = 'Suicide Rate')"
      ],
      "execution_count": null,
      "outputs": [
        {
          "output_type": "display_data",
          "data": {
            "image/png": "[encoded data removed]",
            "text/plain": [
              "<Figure size 720x576 with 1 Axes>"
            ]
          },
          "metadata": {
            "tags": []
          }
        }
      ]
    },
    {
      "cell_type": "markdown",
      "metadata": {
        "id": "uHRWrHbaeiMM",
        "colab_type": "text"
      },
      "source": [
        "This chart shows the suicide rate by age bucket. Suicide rate is higher in the older bucket and the highest in 75+ age bucket. This is suprising to me because I thought the highest suicide rate happens in the mid-age group(35-54).Also I am suprised to see that there are 52,264 5-14 years old people committed suicide. "
      ]
    },
    {
      "cell_type": "markdown",
      "metadata": {
        "id": "HsUQ8prGfKdD",
        "colab_type": "text"
      },
      "source": [
        "**Draw a chart to find suicide rate time series** "
      ]
    },
    {
      "cell_type": "code",
      "metadata": {
        "id": "-xI7lGHHYvof",
        "colab_type": "code",
        "colab": {}
      },
      "source": [
        "suicide_by_year = (df\n",
        "          .groupby(['year'])\n",
        "          .agg({'population':'sum','suicides_no':'sum'})\n",
        "          )\n",
        "\n",
        "suicide_by_year['suicide_rate'] = suicide_by_year.suicides_no/suicide_by_year.population*100\n",
        "\n",
        "x = suicide_by_year.index\n",
        "y = suicide_by_year.suicide_rate\n"
      ],
      "execution_count": null,
      "outputs": []
    },
    {
      "cell_type": "code",
      "metadata": {
        "id": "UJfSTt0h_332",
        "colab_type": "code",
        "colab": {
          "base_uri": "https://localhost:8080/",
          "height": 583
        },
        "outputId": "95a202fe-78ff-4cd2-e1b7-f0a8b5695d7e"
      },
      "source": [
        "with sns.color_palette('Reds'):\n",
        "  with sns.plotting_context('poster'):\n",
        "    with sns.axes_style('dark', {'axes.facecolor':'Black'}):\n",
        "      fig, ax = plt.subplots(figsize=(10, 8))\n",
        "      sns.lineplot(x, y, ax=ax)\n",
        "      ax.tick_params(axis='x', labelrotation=45)\n",
        "      ax.yaxis.set_major_formatter(ticker.PercentFormatter())\n",
        "      ax.set_title(\"Suicide Rate by Age\")\n",
        "      ax.set(ylabel = 'Suicide Rate')\n",
        "      ax.set(ylim=(0, 0.02))"
      ],
      "execution_count": null,
      "outputs": [
        {
          "output_type": "display_data",
          "data": {
            "image/png": "[encoded data removed]",
            "text/plain": [
              "<Figure size 720x576 with 1 Axes>"
            ]
          },
          "metadata": {
            "tags": []
          }
        }
      ]
    },
    {
      "cell_type": "markdown",
      "metadata": {
        "id": "rgs1N0O6FRMa",
        "colab_type": "text"
      },
      "source": [
        "This chart shows the time series of suicide rate. The highest suicide rate happens in 1995 and has declined since then. I don't have a hypothesis why 1995 has the highest suicide rate. If I have more time, I would like to explore other data sources such as unemployement rate or natural disaster data and find out the reason behind the high suicide rate. \n",
        "\n",
        "---\n",
        "\n"
      ]
    },
    {
      "cell_type": "markdown",
      "metadata": {
        "id": "HMsOD95YGj0A",
        "colab_type": "text"
      },
      "source": [
        "# Now try PCA model "
      ]
    },
    {
      "cell_type": "markdown",
      "metadata": {
        "id": "5rFe4JHB-NCV",
        "colab_type": "text"
      },
      "source": [
        "Step 1: Clean up the data"
      ]
    },
    {
      "cell_type": "code",
      "metadata": {
        "id": "joFZKFha-hfP",
        "colab_type": "code",
        "colab": {
          "base_uri": "https://localhost:8080/",
          "height": 419
        },
        "outputId": "30b73466-db16-44db-eae7-4753c4d8493e"
      },
      "source": [
        "df"
      ],
      "execution_count": null,
      "outputs": [
        {
          "output_type": "execute_result",
          "data": {
            "text/html": [
              "<div>\n",
              "<style scoped>\n",
              "    .dataframe tbody tr th:only-of-type {\n",
              "        vertical-align: middle;\n",
              "    }\n",
              "\n",
              "    .dataframe tbody tr th {\n",
              "        vertical-align: top;\n",
              "    }\n",
              "\n",
              "    .dataframe thead th {\n",
              "        text-align: right;\n",
              "    }\n",
              "</style>\n",
              "<table border=\"1\" class=\"dataframe\">\n",
              "  <thead>\n",
              "    <tr style=\"text-align: right;\">\n",
              "      <th></th>\n",
              "      <th>country</th>\n",
              "      <th>year</th>\n",
              "      <th>sex</th>\n",
              "      <th>age</th>\n",
              "      <th>suicides_no</th>\n",
              "      <th>population</th>\n",
              "      <th>suicide_rate</th>\n",
              "      <th>country_year</th>\n",
              "      <th>HDI_for_year</th>\n",
              "      <th>gdp_for_year</th>\n",
              "      <th>gdp_per_capita</th>\n",
              "      <th>generation</th>\n",
              "    </tr>\n",
              "  </thead>\n",
              "  <tbody>\n",
              "    <tr>\n",
              "      <th>1</th>\n",
              "      <td>Albania</td>\n",
              "      <td>1987</td>\n",
              "      <td>male</td>\n",
              "      <td>35-54 years</td>\n",
              "      <td>16</td>\n",
              "      <td>308000</td>\n",
              "      <td>5.19</td>\n",
              "      <td>Albania1987</td>\n",
              "      <td>NaN</td>\n",
              "      <td>2156624900</td>\n",
              "      <td>796</td>\n",
              "      <td>Silent</td>\n",
              "    </tr>\n",
              "    <tr>\n",
              "      <th>2</th>\n",
              "      <td>Albania</td>\n",
              "      <td>1987</td>\n",
              "      <td>female</td>\n",
              "      <td>15-24 years</td>\n",
              "      <td>14</td>\n",
              "      <td>289700</td>\n",
              "      <td>4.83</td>\n",
              "      <td>Albania1987</td>\n",
              "      <td>NaN</td>\n",
              "      <td>2156624900</td>\n",
              "      <td>796</td>\n",
              "      <td>Generation X</td>\n",
              "    </tr>\n",
              "    <tr>\n",
              "      <th>3</th>\n",
              "      <td>Albania</td>\n",
              "      <td>1987</td>\n",
              "      <td>male</td>\n",
              "      <td>75+ years</td>\n",
              "      <td>1</td>\n",
              "      <td>21800</td>\n",
              "      <td>4.59</td>\n",
              "      <td>Albania1987</td>\n",
              "      <td>NaN</td>\n",
              "      <td>2156624900</td>\n",
              "      <td>796</td>\n",
              "      <td>G.I. Generation</td>\n",
              "    </tr>\n",
              "    <tr>\n",
              "      <th>4</th>\n",
              "      <td>Albania</td>\n",
              "      <td>1987</td>\n",
              "      <td>male</td>\n",
              "      <td>25-34 years</td>\n",
              "      <td>9</td>\n",
              "      <td>274300</td>\n",
              "      <td>3.28</td>\n",
              "      <td>Albania1987</td>\n",
              "      <td>NaN</td>\n",
              "      <td>2156624900</td>\n",
              "      <td>796</td>\n",
              "      <td>Boomers</td>\n",
              "    </tr>\n",
              "    <tr>\n",
              "      <th>5</th>\n",
              "      <td>Albania</td>\n",
              "      <td>1987</td>\n",
              "      <td>female</td>\n",
              "      <td>75+ years</td>\n",
              "      <td>1</td>\n",
              "      <td>35600</td>\n",
              "      <td>2.81</td>\n",
              "      <td>Albania1987</td>\n",
              "      <td>NaN</td>\n",
              "      <td>2156624900</td>\n",
              "      <td>796</td>\n",
              "      <td>G.I. Generation</td>\n",
              "    </tr>\n",
              "    <tr>\n",
              "      <th>...</th>\n",
              "      <td>...</td>\n",
              "      <td>...</td>\n",
              "      <td>...</td>\n",
              "      <td>...</td>\n",
              "      <td>...</td>\n",
              "      <td>...</td>\n",
              "      <td>...</td>\n",
              "      <td>...</td>\n",
              "      <td>...</td>\n",
              "      <td>...</td>\n",
              "      <td>...</td>\n",
              "      <td>...</td>\n",
              "    </tr>\n",
              "    <tr>\n",
              "      <th>27815</th>\n",
              "      <td>Uzbekistan</td>\n",
              "      <td>2014</td>\n",
              "      <td>female</td>\n",
              "      <td>35-54 years</td>\n",
              "      <td>107</td>\n",
              "      <td>3620833</td>\n",
              "      <td>2.96</td>\n",
              "      <td>Uzbekistan2014</td>\n",
              "      <td>0.675</td>\n",
              "      <td>63067077179</td>\n",
              "      <td>2309</td>\n",
              "      <td>Generation X</td>\n",
              "    </tr>\n",
              "    <tr>\n",
              "      <th>27816</th>\n",
              "      <td>Uzbekistan</td>\n",
              "      <td>2014</td>\n",
              "      <td>female</td>\n",
              "      <td>75+ years</td>\n",
              "      <td>9</td>\n",
              "      <td>348465</td>\n",
              "      <td>2.58</td>\n",
              "      <td>Uzbekistan2014</td>\n",
              "      <td>0.675</td>\n",
              "      <td>63067077179</td>\n",
              "      <td>2309</td>\n",
              "      <td>Silent</td>\n",
              "    </tr>\n",
              "    <tr>\n",
              "      <th>27817</th>\n",
              "      <td>Uzbekistan</td>\n",
              "      <td>2014</td>\n",
              "      <td>male</td>\n",
              "      <td>5-14 years</td>\n",
              "      <td>60</td>\n",
              "      <td>2762158</td>\n",
              "      <td>2.17</td>\n",
              "      <td>Uzbekistan2014</td>\n",
              "      <td>0.675</td>\n",
              "      <td>63067077179</td>\n",
              "      <td>2309</td>\n",
              "      <td>Generation Z</td>\n",
              "    </tr>\n",
              "    <tr>\n",
              "      <th>27818</th>\n",
              "      <td>Uzbekistan</td>\n",
              "      <td>2014</td>\n",
              "      <td>female</td>\n",
              "      <td>5-14 years</td>\n",
              "      <td>44</td>\n",
              "      <td>2631600</td>\n",
              "      <td>1.67</td>\n",
              "      <td>Uzbekistan2014</td>\n",
              "      <td>0.675</td>\n",
              "      <td>63067077179</td>\n",
              "      <td>2309</td>\n",
              "      <td>Generation Z</td>\n",
              "    </tr>\n",
              "    <tr>\n",
              "      <th>27819</th>\n",
              "      <td>Uzbekistan</td>\n",
              "      <td>2014</td>\n",
              "      <td>female</td>\n",
              "      <td>55-74 years</td>\n",
              "      <td>21</td>\n",
              "      <td>1438935</td>\n",
              "      <td>1.46</td>\n",
              "      <td>Uzbekistan2014</td>\n",
              "      <td>0.675</td>\n",
              "      <td>63067077179</td>\n",
              "      <td>2309</td>\n",
              "      <td>Boomers</td>\n",
              "    </tr>\n",
              "  </tbody>\n",
              "</table>\n",
              "<p>27819 rows × 12 columns</p>\n",
              "</div>"
            ],
            "text/plain": [
              "          country  year     sex  ... gdp_for_year  gdp_per_capita       generation\n",
              "1         Albania  1987    male  ...   2156624900             796           Silent\n",
              "2         Albania  1987  female  ...   2156624900             796     Generation X\n",
              "3         Albania  1987    male  ...   2156624900             796  G.I. Generation\n",
              "4         Albania  1987    male  ...   2156624900             796          Boomers\n",
              "5         Albania  1987  female  ...   2156624900             796  G.I. Generation\n",
              "...           ...   ...     ...  ...          ...             ...              ...\n",
              "27815  Uzbekistan  2014  female  ...  63067077179            2309     Generation X\n",
              "27816  Uzbekistan  2014  female  ...  63067077179            2309           Silent\n",
              "27817  Uzbekistan  2014    male  ...  63067077179            2309     Generation Z\n",
              "27818  Uzbekistan  2014  female  ...  63067077179            2309     Generation Z\n",
              "27819  Uzbekistan  2014  female  ...  63067077179            2309          Boomers\n",
              "\n",
              "[27819 rows x 12 columns]"
            ]
          },
          "metadata": {
            "tags": []
          },
          "execution_count": 11
        }
      ]
    },
    {
      "cell_type": "markdown",
      "metadata": {
        "id": "Dy3guQUi-S1U",
        "colab_type": "text"
      },
      "source": [
        "1) Clean up Country: for simplity, I will only keep the top 5 countries and combine everything else into Other"
      ]
    },
    {
      "cell_type": "code",
      "metadata": {
        "id": "GySdSD0X8xE5",
        "colab_type": "code",
        "colab": {
          "base_uri": "https://localhost:8080/",
          "height": 450
        },
        "outputId": "087cf39e-b201-4f87-f259-b657dd46d322"
      },
      "source": [
        "#find out the top countries\n",
        "\n",
        "population_by_country = (df\n",
        "          .groupby(['country'])\n",
        "          .agg({'population':'sum'})\n",
        "          )\n",
        "\n",
        "population_by_country.sort_values(by='population', ascending=False)\n",
        "\n"
      ],
      "execution_count": null,
      "outputs": [
        {
          "output_type": "execute_result",
          "data": {
            "text/html": [
              "<div>\n",
              "<style scoped>\n",
              "    .dataframe tbody tr th:only-of-type {\n",
              "        vertical-align: middle;\n",
              "    }\n",
              "\n",
              "    .dataframe tbody tr th {\n",
              "        vertical-align: top;\n",
              "    }\n",
              "\n",
              "    .dataframe thead th {\n",
              "        text-align: right;\n",
              "    }\n",
              "</style>\n",
              "<table border=\"1\" class=\"dataframe\">\n",
              "  <thead>\n",
              "    <tr style=\"text-align: right;\">\n",
              "      <th></th>\n",
              "      <th>population</th>\n",
              "    </tr>\n",
              "    <tr>\n",
              "      <th>country</th>\n",
              "      <th></th>\n",
              "    </tr>\n",
              "  </thead>\n",
              "  <tbody>\n",
              "    <tr>\n",
              "      <th>United States</th>\n",
              "      <td>8054027201</td>\n",
              "    </tr>\n",
              "    <tr>\n",
              "      <th>Brazil</th>\n",
              "      <td>4856093548</td>\n",
              "    </tr>\n",
              "    <tr>\n",
              "      <th>Russian Federation</th>\n",
              "      <td>3690802620</td>\n",
              "    </tr>\n",
              "    <tr>\n",
              "      <th>Japan</th>\n",
              "      <td>3681024844</td>\n",
              "    </tr>\n",
              "    <tr>\n",
              "      <th>Mexico</th>\n",
              "      <td>2772959159</td>\n",
              "    </tr>\n",
              "    <tr>\n",
              "      <th>...</th>\n",
              "      <td>...</td>\n",
              "    </tr>\n",
              "    <tr>\n",
              "      <th>Cabo Verde</th>\n",
              "      <td>452179</td>\n",
              "    </tr>\n",
              "    <tr>\n",
              "      <th>Macau</th>\n",
              "      <td>346542</td>\n",
              "    </tr>\n",
              "    <tr>\n",
              "      <th>Saint Kitts and Nevis</th>\n",
              "      <td>117300</td>\n",
              "    </tr>\n",
              "    <tr>\n",
              "      <th>San Marino</th>\n",
              "      <td>78825</td>\n",
              "    </tr>\n",
              "    <tr>\n",
              "      <th>Dominica</th>\n",
              "      <td>66400</td>\n",
              "    </tr>\n",
              "  </tbody>\n",
              "</table>\n",
              "<p>101 rows × 1 columns</p>\n",
              "</div>"
            ],
            "text/plain": [
              "                       population\n",
              "country                          \n",
              "United States          8054027201\n",
              "Brazil                 4856093548\n",
              "Russian Federation     3690802620\n",
              "Japan                  3681024844\n",
              "Mexico                 2772959159\n",
              "...                           ...\n",
              "Cabo Verde                 452179\n",
              "Macau                      346542\n",
              "Saint Kitts and Nevis      117300\n",
              "San Marino                  78825\n",
              "Dominica                    66400\n",
              "\n",
              "[101 rows x 1 columns]"
            ]
          },
          "metadata": {
            "tags": []
          },
          "execution_count": 12
        }
      ]
    },
    {
      "cell_type": "code",
      "metadata": {
        "id": "dW_6aGL2RtHl",
        "colab_type": "code",
        "colab": {}
      },
      "source": [
        "def limit_countries(val):\n",
        "        if val in  {'United States', 'Brazil', 'Russian Federation','Japan','Mexico'}:\n",
        "            return val\n",
        "        return 'Other'\n",
        "df.country = df.country.apply(limit_countries)"
      ],
      "execution_count": null,
      "outputs": []
    },
    {
      "cell_type": "markdown",
      "metadata": {
        "id": "ZTq72GV4Ai-C",
        "colab_type": "text"
      },
      "source": [
        "2) clearn up age bucket"
      ]
    },
    {
      "cell_type": "code",
      "metadata": {
        "id": "z-DEbCyH-4ut",
        "colab_type": "code",
        "colab": {}
      },
      "source": [
        "df.age = df.age.replace({'5-14 years': '5'}).str.slice(0,2).astype(int).rename('age')"
      ],
      "execution_count": null,
      "outputs": []
    },
    {
      "cell_type": "code",
      "metadata": {
        "id": "UwofmbH0-6t-",
        "colab_type": "code",
        "colab": {}
      },
      "source": [
        "df1 = df.filter(items=['country','year','sex','age','suicides_no', 'population','suicide_rate','gdp_for_year','gdp_per_capita'])"
      ],
      "execution_count": null,
      "outputs": []
    },
    {
      "cell_type": "code",
      "metadata": {
        "id": "gmx3iOpPwWbs",
        "colab_type": "code",
        "colab": {
          "base_uri": "https://localhost:8080/",
          "height": 419
        },
        "outputId": "dd9b9d81-5686-4436-f5ed-d57d9c08ac6c"
      },
      "source": [
        "df1"
      ],
      "execution_count": null,
      "outputs": [
        {
          "output_type": "execute_result",
          "data": {
            "text/html": [
              "<div>\n",
              "<style scoped>\n",
              "    .dataframe tbody tr th:only-of-type {\n",
              "        vertical-align: middle;\n",
              "    }\n",
              "\n",
              "    .dataframe tbody tr th {\n",
              "        vertical-align: top;\n",
              "    }\n",
              "\n",
              "    .dataframe thead th {\n",
              "        text-align: right;\n",
              "    }\n",
              "</style>\n",
              "<table border=\"1\" class=\"dataframe\">\n",
              "  <thead>\n",
              "    <tr style=\"text-align: right;\">\n",
              "      <th></th>\n",
              "      <th>country</th>\n",
              "      <th>year</th>\n",
              "      <th>sex</th>\n",
              "      <th>age</th>\n",
              "      <th>suicides_no</th>\n",
              "      <th>population</th>\n",
              "      <th>suicide_rate</th>\n",
              "      <th>gdp_for_year</th>\n",
              "      <th>gdp_per_capita</th>\n",
              "    </tr>\n",
              "  </thead>\n",
              "  <tbody>\n",
              "    <tr>\n",
              "      <th>1</th>\n",
              "      <td>Other</td>\n",
              "      <td>1987</td>\n",
              "      <td>male</td>\n",
              "      <td>35</td>\n",
              "      <td>16</td>\n",
              "      <td>308000</td>\n",
              "      <td>5.19</td>\n",
              "      <td>2156624900</td>\n",
              "      <td>796</td>\n",
              "    </tr>\n",
              "    <tr>\n",
              "      <th>2</th>\n",
              "      <td>Other</td>\n",
              "      <td>1987</td>\n",
              "      <td>female</td>\n",
              "      <td>15</td>\n",
              "      <td>14</td>\n",
              "      <td>289700</td>\n",
              "      <td>4.83</td>\n",
              "      <td>2156624900</td>\n",
              "      <td>796</td>\n",
              "    </tr>\n",
              "    <tr>\n",
              "      <th>3</th>\n",
              "      <td>Other</td>\n",
              "      <td>1987</td>\n",
              "      <td>male</td>\n",
              "      <td>75</td>\n",
              "      <td>1</td>\n",
              "      <td>21800</td>\n",
              "      <td>4.59</td>\n",
              "      <td>2156624900</td>\n",
              "      <td>796</td>\n",
              "    </tr>\n",
              "    <tr>\n",
              "      <th>4</th>\n",
              "      <td>Other</td>\n",
              "      <td>1987</td>\n",
              "      <td>male</td>\n",
              "      <td>25</td>\n",
              "      <td>9</td>\n",
              "      <td>274300</td>\n",
              "      <td>3.28</td>\n",
              "      <td>2156624900</td>\n",
              "      <td>796</td>\n",
              "    </tr>\n",
              "    <tr>\n",
              "      <th>5</th>\n",
              "      <td>Other</td>\n",
              "      <td>1987</td>\n",
              "      <td>female</td>\n",
              "      <td>75</td>\n",
              "      <td>1</td>\n",
              "      <td>35600</td>\n",
              "      <td>2.81</td>\n",
              "      <td>2156624900</td>\n",
              "      <td>796</td>\n",
              "    </tr>\n",
              "    <tr>\n",
              "      <th>...</th>\n",
              "      <td>...</td>\n",
              "      <td>...</td>\n",
              "      <td>...</td>\n",
              "      <td>...</td>\n",
              "      <td>...</td>\n",
              "      <td>...</td>\n",
              "      <td>...</td>\n",
              "      <td>...</td>\n",
              "      <td>...</td>\n",
              "    </tr>\n",
              "    <tr>\n",
              "      <th>27815</th>\n",
              "      <td>Other</td>\n",
              "      <td>2014</td>\n",
              "      <td>female</td>\n",
              "      <td>35</td>\n",
              "      <td>107</td>\n",
              "      <td>3620833</td>\n",
              "      <td>2.96</td>\n",
              "      <td>63067077179</td>\n",
              "      <td>2309</td>\n",
              "    </tr>\n",
              "    <tr>\n",
              "      <th>27816</th>\n",
              "      <td>Other</td>\n",
              "      <td>2014</td>\n",
              "      <td>female</td>\n",
              "      <td>75</td>\n",
              "      <td>9</td>\n",
              "      <td>348465</td>\n",
              "      <td>2.58</td>\n",
              "      <td>63067077179</td>\n",
              "      <td>2309</td>\n",
              "    </tr>\n",
              "    <tr>\n",
              "      <th>27817</th>\n",
              "      <td>Other</td>\n",
              "      <td>2014</td>\n",
              "      <td>male</td>\n",
              "      <td>5</td>\n",
              "      <td>60</td>\n",
              "      <td>2762158</td>\n",
              "      <td>2.17</td>\n",
              "      <td>63067077179</td>\n",
              "      <td>2309</td>\n",
              "    </tr>\n",
              "    <tr>\n",
              "      <th>27818</th>\n",
              "      <td>Other</td>\n",
              "      <td>2014</td>\n",
              "      <td>female</td>\n",
              "      <td>5</td>\n",
              "      <td>44</td>\n",
              "      <td>2631600</td>\n",
              "      <td>1.67</td>\n",
              "      <td>63067077179</td>\n",
              "      <td>2309</td>\n",
              "    </tr>\n",
              "    <tr>\n",
              "      <th>27819</th>\n",
              "      <td>Other</td>\n",
              "      <td>2014</td>\n",
              "      <td>female</td>\n",
              "      <td>55</td>\n",
              "      <td>21</td>\n",
              "      <td>1438935</td>\n",
              "      <td>1.46</td>\n",
              "      <td>63067077179</td>\n",
              "      <td>2309</td>\n",
              "    </tr>\n",
              "  </tbody>\n",
              "</table>\n",
              "<p>27819 rows × 9 columns</p>\n",
              "</div>"
            ],
            "text/plain": [
              "      country  year     sex  ...  suicide_rate  gdp_for_year  gdp_per_capita\n",
              "1       Other  1987    male  ...          5.19    2156624900             796\n",
              "2       Other  1987  female  ...          4.83    2156624900             796\n",
              "3       Other  1987    male  ...          4.59    2156624900             796\n",
              "4       Other  1987    male  ...          3.28    2156624900             796\n",
              "5       Other  1987  female  ...          2.81    2156624900             796\n",
              "...       ...   ...     ...  ...           ...           ...             ...\n",
              "27815   Other  2014  female  ...          2.96   63067077179            2309\n",
              "27816   Other  2014  female  ...          2.58   63067077179            2309\n",
              "27817   Other  2014    male  ...          2.17   63067077179            2309\n",
              "27818   Other  2014  female  ...          1.67   63067077179            2309\n",
              "27819   Other  2014  female  ...          1.46   63067077179            2309\n",
              "\n",
              "[27819 rows x 9 columns]"
            ]
          },
          "metadata": {
            "tags": []
          },
          "execution_count": 26
        }
      ]
    },
    {
      "cell_type": "markdown",
      "metadata": {
        "id": "q1FLa8XxBADA",
        "colab_type": "text"
      },
      "source": [
        "Data cleaning is completed. Now convert categorical variables into dummy variables "
      ]
    },
    {
      "cell_type": "code",
      "metadata": {
        "id": "faWrWWx1xi1K",
        "colab_type": "code",
        "colab": {}
      },
      "source": [
        " df2 = pd.get_dummies(df1)\n"
      ],
      "execution_count": null,
      "outputs": []
    },
    {
      "cell_type": "code",
      "metadata": {
        "id": "bLnsxtg-1FnT",
        "colab_type": "code",
        "colab": {
          "base_uri": "https://localhost:8080/",
          "height": 456
        },
        "outputId": "28f91e1d-8219-4e81-ec12-26070c42d17e"
      },
      "source": [
        "df2"
      ],
      "execution_count": null,
      "outputs": [
        {
          "output_type": "execute_result",
          "data": {
            "text/html": [
              "<div>\n",
              "<style scoped>\n",
              "    .dataframe tbody tr th:only-of-type {\n",
              "        vertical-align: middle;\n",
              "    }\n",
              "\n",
              "    .dataframe tbody tr th {\n",
              "        vertical-align: top;\n",
              "    }\n",
              "\n",
              "    .dataframe thead th {\n",
              "        text-align: right;\n",
              "    }\n",
              "</style>\n",
              "<table border=\"1\" class=\"dataframe\">\n",
              "  <thead>\n",
              "    <tr style=\"text-align: right;\">\n",
              "      <th></th>\n",
              "      <th>year</th>\n",
              "      <th>age</th>\n",
              "      <th>suicides_no</th>\n",
              "      <th>population</th>\n",
              "      <th>suicide_rate</th>\n",
              "      <th>gdp_for_year</th>\n",
              "      <th>gdp_per_capita</th>\n",
              "      <th>country_Brazil</th>\n",
              "      <th>country_Japan</th>\n",
              "      <th>country_Mexico</th>\n",
              "      <th>country_Other</th>\n",
              "      <th>country_Russian Federation</th>\n",
              "      <th>country_United States</th>\n",
              "      <th>sex_female</th>\n",
              "      <th>sex_male</th>\n",
              "    </tr>\n",
              "  </thead>\n",
              "  <tbody>\n",
              "    <tr>\n",
              "      <th>1</th>\n",
              "      <td>1987</td>\n",
              "      <td>35</td>\n",
              "      <td>16</td>\n",
              "      <td>308000</td>\n",
              "      <td>5.19</td>\n",
              "      <td>2156624900</td>\n",
              "      <td>796</td>\n",
              "      <td>0</td>\n",
              "      <td>0</td>\n",
              "      <td>0</td>\n",
              "      <td>1</td>\n",
              "      <td>0</td>\n",
              "      <td>0</td>\n",
              "      <td>0</td>\n",
              "      <td>1</td>\n",
              "    </tr>\n",
              "    <tr>\n",
              "      <th>2</th>\n",
              "      <td>1987</td>\n",
              "      <td>15</td>\n",
              "      <td>14</td>\n",
              "      <td>289700</td>\n",
              "      <td>4.83</td>\n",
              "      <td>2156624900</td>\n",
              "      <td>796</td>\n",
              "      <td>0</td>\n",
              "      <td>0</td>\n",
              "      <td>0</td>\n",
              "      <td>1</td>\n",
              "      <td>0</td>\n",
              "      <td>0</td>\n",
              "      <td>1</td>\n",
              "      <td>0</td>\n",
              "    </tr>\n",
              "    <tr>\n",
              "      <th>3</th>\n",
              "      <td>1987</td>\n",
              "      <td>75</td>\n",
              "      <td>1</td>\n",
              "      <td>21800</td>\n",
              "      <td>4.59</td>\n",
              "      <td>2156624900</td>\n",
              "      <td>796</td>\n",
              "      <td>0</td>\n",
              "      <td>0</td>\n",
              "      <td>0</td>\n",
              "      <td>1</td>\n",
              "      <td>0</td>\n",
              "      <td>0</td>\n",
              "      <td>0</td>\n",
              "      <td>1</td>\n",
              "    </tr>\n",
              "    <tr>\n",
              "      <th>4</th>\n",
              "      <td>1987</td>\n",
              "      <td>25</td>\n",
              "      <td>9</td>\n",
              "      <td>274300</td>\n",
              "      <td>3.28</td>\n",
              "      <td>2156624900</td>\n",
              "      <td>796</td>\n",
              "      <td>0</td>\n",
              "      <td>0</td>\n",
              "      <td>0</td>\n",
              "      <td>1</td>\n",
              "      <td>0</td>\n",
              "      <td>0</td>\n",
              "      <td>0</td>\n",
              "      <td>1</td>\n",
              "    </tr>\n",
              "    <tr>\n",
              "      <th>5</th>\n",
              "      <td>1987</td>\n",
              "      <td>75</td>\n",
              "      <td>1</td>\n",
              "      <td>35600</td>\n",
              "      <td>2.81</td>\n",
              "      <td>2156624900</td>\n",
              "      <td>796</td>\n",
              "      <td>0</td>\n",
              "      <td>0</td>\n",
              "      <td>0</td>\n",
              "      <td>1</td>\n",
              "      <td>0</td>\n",
              "      <td>0</td>\n",
              "      <td>1</td>\n",
              "      <td>0</td>\n",
              "    </tr>\n",
              "    <tr>\n",
              "      <th>...</th>\n",
              "      <td>...</td>\n",
              "      <td>...</td>\n",
              "      <td>...</td>\n",
              "      <td>...</td>\n",
              "      <td>...</td>\n",
              "      <td>...</td>\n",
              "      <td>...</td>\n",
              "      <td>...</td>\n",
              "      <td>...</td>\n",
              "      <td>...</td>\n",
              "      <td>...</td>\n",
              "      <td>...</td>\n",
              "      <td>...</td>\n",
              "      <td>...</td>\n",
              "      <td>...</td>\n",
              "    </tr>\n",
              "    <tr>\n",
              "      <th>27815</th>\n",
              "      <td>2014</td>\n",
              "      <td>35</td>\n",
              "      <td>107</td>\n",
              "      <td>3620833</td>\n",
              "      <td>2.96</td>\n",
              "      <td>63067077179</td>\n",
              "      <td>2309</td>\n",
              "      <td>0</td>\n",
              "      <td>0</td>\n",
              "      <td>0</td>\n",
              "      <td>1</td>\n",
              "      <td>0</td>\n",
              "      <td>0</td>\n",
              "      <td>1</td>\n",
              "      <td>0</td>\n",
              "    </tr>\n",
              "    <tr>\n",
              "      <th>27816</th>\n",
              "      <td>2014</td>\n",
              "      <td>75</td>\n",
              "      <td>9</td>\n",
              "      <td>348465</td>\n",
              "      <td>2.58</td>\n",
              "      <td>63067077179</td>\n",
              "      <td>2309</td>\n",
              "      <td>0</td>\n",
              "      <td>0</td>\n",
              "      <td>0</td>\n",
              "      <td>1</td>\n",
              "      <td>0</td>\n",
              "      <td>0</td>\n",
              "      <td>1</td>\n",
              "      <td>0</td>\n",
              "    </tr>\n",
              "    <tr>\n",
              "      <th>27817</th>\n",
              "      <td>2014</td>\n",
              "      <td>5</td>\n",
              "      <td>60</td>\n",
              "      <td>2762158</td>\n",
              "      <td>2.17</td>\n",
              "      <td>63067077179</td>\n",
              "      <td>2309</td>\n",
              "      <td>0</td>\n",
              "      <td>0</td>\n",
              "      <td>0</td>\n",
              "      <td>1</td>\n",
              "      <td>0</td>\n",
              "      <td>0</td>\n",
              "      <td>0</td>\n",
              "      <td>1</td>\n",
              "    </tr>\n",
              "    <tr>\n",
              "      <th>27818</th>\n",
              "      <td>2014</td>\n",
              "      <td>5</td>\n",
              "      <td>44</td>\n",
              "      <td>2631600</td>\n",
              "      <td>1.67</td>\n",
              "      <td>63067077179</td>\n",
              "      <td>2309</td>\n",
              "      <td>0</td>\n",
              "      <td>0</td>\n",
              "      <td>0</td>\n",
              "      <td>1</td>\n",
              "      <td>0</td>\n",
              "      <td>0</td>\n",
              "      <td>1</td>\n",
              "      <td>0</td>\n",
              "    </tr>\n",
              "    <tr>\n",
              "      <th>27819</th>\n",
              "      <td>2014</td>\n",
              "      <td>55</td>\n",
              "      <td>21</td>\n",
              "      <td>1438935</td>\n",
              "      <td>1.46</td>\n",
              "      <td>63067077179</td>\n",
              "      <td>2309</td>\n",
              "      <td>0</td>\n",
              "      <td>0</td>\n",
              "      <td>0</td>\n",
              "      <td>1</td>\n",
              "      <td>0</td>\n",
              "      <td>0</td>\n",
              "      <td>1</td>\n",
              "      <td>0</td>\n",
              "    </tr>\n",
              "  </tbody>\n",
              "</table>\n",
              "<p>27819 rows × 15 columns</p>\n",
              "</div>"
            ],
            "text/plain": [
              "       year  age  suicides_no  ...  country_United States  sex_female  sex_male\n",
              "1      1987   35           16  ...                      0           0         1\n",
              "2      1987   15           14  ...                      0           1         0\n",
              "3      1987   75            1  ...                      0           0         1\n",
              "4      1987   25            9  ...                      0           0         1\n",
              "5      1987   75            1  ...                      0           1         0\n",
              "...     ...  ...          ...  ...                    ...         ...       ...\n",
              "27815  2014   35          107  ...                      0           1         0\n",
              "27816  2014   75            9  ...                      0           1         0\n",
              "27817  2014    5           60  ...                      0           0         1\n",
              "27818  2014    5           44  ...                      0           1         0\n",
              "27819  2014   55           21  ...                      0           1         0\n",
              "\n",
              "[27819 rows x 15 columns]"
            ]
          },
          "metadata": {
            "tags": []
          },
          "execution_count": 28
        }
      ]
    },
    {
      "cell_type": "markdown",
      "metadata": {
        "id": "-abss0IcMKT2",
        "colab_type": "text"
      },
      "source": [
        "# PCA - Visualize High Dimension Data"
      ]
    },
    {
      "cell_type": "code",
      "metadata": {
        "id": "pbFyi7lvMIb4",
        "colab_type": "code",
        "colab": {
          "base_uri": "https://localhost:8080/",
          "height": 456
        },
        "outputId": "640eee8c-6a67-49b6-b26c-8c34e67bc602"
      },
      "source": [
        "X = df2\n",
        "std = preprocessing.StandardScaler()\n",
        "X_std = pd.DataFrame(std.fit_transform(X), columns=X.columns)\n",
        "X_std"
      ],
      "execution_count": null,
      "outputs": [
        {
          "output_type": "execute_result",
          "data": {
            "text/html": [
              "<div>\n",
              "<style scoped>\n",
              "    .dataframe tbody tr th:only-of-type {\n",
              "        vertical-align: middle;\n",
              "    }\n",
              "\n",
              "    .dataframe tbody tr th {\n",
              "        vertical-align: top;\n",
              "    }\n",
              "\n",
              "    .dataframe thead th {\n",
              "        text-align: right;\n",
              "    }\n",
              "</style>\n",
              "<table border=\"1\" class=\"dataframe\">\n",
              "  <thead>\n",
              "    <tr style=\"text-align: right;\">\n",
              "      <th></th>\n",
              "      <th>year</th>\n",
              "      <th>age</th>\n",
              "      <th>suicides_no</th>\n",
              "      <th>population</th>\n",
              "      <th>suicide_rate</th>\n",
              "      <th>gdp_for_year</th>\n",
              "      <th>gdp_per_capita</th>\n",
              "      <th>country_Brazil</th>\n",
              "      <th>country_Japan</th>\n",
              "      <th>country_Mexico</th>\n",
              "      <th>country_Other</th>\n",
              "      <th>country_Russian Federation</th>\n",
              "      <th>country_United States</th>\n",
              "      <th>sex_female</th>\n",
              "      <th>sex_male</th>\n",
              "    </tr>\n",
              "  </thead>\n",
              "  <tbody>\n",
              "    <tr>\n",
              "      <th>0</th>\n",
              "      <td>-1.683731</td>\n",
              "      <td>-0.001480</td>\n",
              "      <td>-0.251187</td>\n",
              "      <td>-0.392878</td>\n",
              "      <td>-0.402201</td>\n",
              "      <td>-0.305062</td>\n",
              "      <td>-0.850890</td>\n",
              "      <td>-0.116419</td>\n",
              "      <td>-0.116419</td>\n",
              "      <td>-0.116419</td>\n",
              "      <td>0.263957</td>\n",
              "      <td>-0.108554</td>\n",
              "      <td>-0.116419</td>\n",
              "      <td>-1.000036</td>\n",
              "      <td>1.000036</td>\n",
              "    </tr>\n",
              "    <tr>\n",
              "      <th>1</th>\n",
              "      <td>-1.683731</td>\n",
              "      <td>-0.841929</td>\n",
              "      <td>-0.253404</td>\n",
              "      <td>-0.397556</td>\n",
              "      <td>-0.421186</td>\n",
              "      <td>-0.305062</td>\n",
              "      <td>-0.850890</td>\n",
              "      <td>-0.116419</td>\n",
              "      <td>-0.116419</td>\n",
              "      <td>-0.116419</td>\n",
              "      <td>0.263957</td>\n",
              "      <td>-0.108554</td>\n",
              "      <td>-0.116419</td>\n",
              "      <td>0.999964</td>\n",
              "      <td>-0.999964</td>\n",
              "    </tr>\n",
              "    <tr>\n",
              "      <th>2</th>\n",
              "      <td>-1.683731</td>\n",
              "      <td>1.679417</td>\n",
              "      <td>-0.267816</td>\n",
              "      <td>-0.466042</td>\n",
              "      <td>-0.433844</td>\n",
              "      <td>-0.305062</td>\n",
              "      <td>-0.850890</td>\n",
              "      <td>-0.116419</td>\n",
              "      <td>-0.116419</td>\n",
              "      <td>-0.116419</td>\n",
              "      <td>0.263957</td>\n",
              "      <td>-0.108554</td>\n",
              "      <td>-0.116419</td>\n",
              "      <td>-1.000036</td>\n",
              "      <td>1.000036</td>\n",
              "    </tr>\n",
              "    <tr>\n",
              "      <th>3</th>\n",
              "      <td>-1.683731</td>\n",
              "      <td>-0.421705</td>\n",
              "      <td>-0.258947</td>\n",
              "      <td>-0.401493</td>\n",
              "      <td>-0.502931</td>\n",
              "      <td>-0.305062</td>\n",
              "      <td>-0.850890</td>\n",
              "      <td>-0.116419</td>\n",
              "      <td>-0.116419</td>\n",
              "      <td>-0.116419</td>\n",
              "      <td>0.263957</td>\n",
              "      <td>-0.108554</td>\n",
              "      <td>-0.116419</td>\n",
              "      <td>-1.000036</td>\n",
              "      <td>1.000036</td>\n",
              "    </tr>\n",
              "    <tr>\n",
              "      <th>4</th>\n",
              "      <td>-1.683731</td>\n",
              "      <td>1.679417</td>\n",
              "      <td>-0.267816</td>\n",
              "      <td>-0.462514</td>\n",
              "      <td>-0.527718</td>\n",
              "      <td>-0.305062</td>\n",
              "      <td>-0.850890</td>\n",
              "      <td>-0.116419</td>\n",
              "      <td>-0.116419</td>\n",
              "      <td>-0.116419</td>\n",
              "      <td>0.263957</td>\n",
              "      <td>-0.108554</td>\n",
              "      <td>-0.116419</td>\n",
              "      <td>0.999964</td>\n",
              "      <td>-0.999964</td>\n",
              "    </tr>\n",
              "    <tr>\n",
              "      <th>...</th>\n",
              "      <td>...</td>\n",
              "      <td>...</td>\n",
              "      <td>...</td>\n",
              "      <td>...</td>\n",
              "      <td>...</td>\n",
              "      <td>...</td>\n",
              "      <td>...</td>\n",
              "      <td>...</td>\n",
              "      <td>...</td>\n",
              "      <td>...</td>\n",
              "      <td>...</td>\n",
              "      <td>...</td>\n",
              "      <td>...</td>\n",
              "      <td>...</td>\n",
              "      <td>...</td>\n",
              "    </tr>\n",
              "    <tr>\n",
              "      <th>27814</th>\n",
              "      <td>1.504508</td>\n",
              "      <td>-0.001480</td>\n",
              "      <td>-0.150305</td>\n",
              "      <td>0.454011</td>\n",
              "      <td>-0.519807</td>\n",
              "      <td>-0.263159</td>\n",
              "      <td>-0.770783</td>\n",
              "      <td>-0.116419</td>\n",
              "      <td>-0.116419</td>\n",
              "      <td>-0.116419</td>\n",
              "      <td>0.263957</td>\n",
              "      <td>-0.108554</td>\n",
              "      <td>-0.116419</td>\n",
              "      <td>0.999964</td>\n",
              "      <td>-0.999964</td>\n",
              "    </tr>\n",
              "    <tr>\n",
              "      <th>27815</th>\n",
              "      <td>1.504508</td>\n",
              "      <td>1.679417</td>\n",
              "      <td>-0.258947</td>\n",
              "      <td>-0.382534</td>\n",
              "      <td>-0.539848</td>\n",
              "      <td>-0.263159</td>\n",
              "      <td>-0.770783</td>\n",
              "      <td>-0.116419</td>\n",
              "      <td>-0.116419</td>\n",
              "      <td>-0.116419</td>\n",
              "      <td>0.263957</td>\n",
              "      <td>-0.108554</td>\n",
              "      <td>-0.116419</td>\n",
              "      <td>0.999964</td>\n",
              "      <td>-0.999964</td>\n",
              "    </tr>\n",
              "    <tr>\n",
              "      <th>27816</th>\n",
              "      <td>1.504508</td>\n",
              "      <td>-1.262154</td>\n",
              "      <td>-0.202409</td>\n",
              "      <td>0.234500</td>\n",
              "      <td>-0.561471</td>\n",
              "      <td>-0.263159</td>\n",
              "      <td>-0.770783</td>\n",
              "      <td>-0.116419</td>\n",
              "      <td>-0.116419</td>\n",
              "      <td>-0.116419</td>\n",
              "      <td>0.263957</td>\n",
              "      <td>-0.108554</td>\n",
              "      <td>-0.116419</td>\n",
              "      <td>-1.000036</td>\n",
              "      <td>1.000036</td>\n",
              "    </tr>\n",
              "    <tr>\n",
              "      <th>27817</th>\n",
              "      <td>1.504508</td>\n",
              "      <td>-1.262154</td>\n",
              "      <td>-0.220146</td>\n",
              "      <td>0.201124</td>\n",
              "      <td>-0.587840</td>\n",
              "      <td>-0.263159</td>\n",
              "      <td>-0.770783</td>\n",
              "      <td>-0.116419</td>\n",
              "      <td>-0.116419</td>\n",
              "      <td>-0.116419</td>\n",
              "      <td>0.263957</td>\n",
              "      <td>-0.108554</td>\n",
              "      <td>-0.116419</td>\n",
              "      <td>0.999964</td>\n",
              "      <td>-0.999964</td>\n",
              "    </tr>\n",
              "    <tr>\n",
              "      <th>27818</th>\n",
              "      <td>1.504508</td>\n",
              "      <td>0.838969</td>\n",
              "      <td>-0.245644</td>\n",
              "      <td>-0.103767</td>\n",
              "      <td>-0.598915</td>\n",
              "      <td>-0.263159</td>\n",
              "      <td>-0.770783</td>\n",
              "      <td>-0.116419</td>\n",
              "      <td>-0.116419</td>\n",
              "      <td>-0.116419</td>\n",
              "      <td>0.263957</td>\n",
              "      <td>-0.108554</td>\n",
              "      <td>-0.116419</td>\n",
              "      <td>0.999964</td>\n",
              "      <td>-0.999964</td>\n",
              "    </tr>\n",
              "  </tbody>\n",
              "</table>\n",
              "<p>27819 rows × 15 columns</p>\n",
              "</div>"
            ],
            "text/plain": [
              "           year       age  ...  sex_female  sex_male\n",
              "0     -1.683731 -0.001480  ...   -1.000036  1.000036\n",
              "1     -1.683731 -0.841929  ...    0.999964 -0.999964\n",
              "2     -1.683731  1.679417  ...   -1.000036  1.000036\n",
              "3     -1.683731 -0.421705  ...   -1.000036  1.000036\n",
              "4     -1.683731  1.679417  ...    0.999964 -0.999964\n",
              "...         ...       ...  ...         ...       ...\n",
              "27814  1.504508 -0.001480  ...    0.999964 -0.999964\n",
              "27815  1.504508  1.679417  ...    0.999964 -0.999964\n",
              "27816  1.504508 -1.262154  ...   -1.000036  1.000036\n",
              "27817  1.504508 -1.262154  ...    0.999964 -0.999964\n",
              "27818  1.504508  0.838969  ...    0.999964 -0.999964\n",
              "\n",
              "[27819 rows x 15 columns]"
            ]
          },
          "metadata": {
            "tags": []
          },
          "execution_count": 29
        }
      ]
    },
    {
      "cell_type": "code",
      "metadata": {
        "id": "KnHGDZZUM3eH",
        "colab_type": "code",
        "colab": {
          "base_uri": "https://localhost:8080/",
          "height": 419
        },
        "outputId": "64cb3ecd-1911-4a00-bb3c-206675d205d8"
      },
      "source": [
        "pca = decomposition.PCA()\n",
        "pca_X = pd.DataFrame(pca.fit_transform(X_std), columns=[f'PC{i+1}' for i in range(len(X.columns))])\n",
        "pca_X"
      ],
      "execution_count": null,
      "outputs": [
        {
          "output_type": "execute_result",
          "data": {
            "text/html": [
              "<div>\n",
              "<style scoped>\n",
              "    .dataframe tbody tr th:only-of-type {\n",
              "        vertical-align: middle;\n",
              "    }\n",
              "\n",
              "    .dataframe tbody tr th {\n",
              "        vertical-align: top;\n",
              "    }\n",
              "\n",
              "    .dataframe thead th {\n",
              "        text-align: right;\n",
              "    }\n",
              "</style>\n",
              "<table border=\"1\" class=\"dataframe\">\n",
              "  <thead>\n",
              "    <tr style=\"text-align: right;\">\n",
              "      <th></th>\n",
              "      <th>PC1</th>\n",
              "      <th>PC2</th>\n",
              "      <th>PC3</th>\n",
              "      <th>PC4</th>\n",
              "      <th>PC5</th>\n",
              "      <th>PC6</th>\n",
              "      <th>PC7</th>\n",
              "      <th>PC8</th>\n",
              "      <th>PC9</th>\n",
              "      <th>PC10</th>\n",
              "      <th>PC11</th>\n",
              "      <th>PC12</th>\n",
              "      <th>PC13</th>\n",
              "      <th>PC14</th>\n",
              "      <th>PC15</th>\n",
              "    </tr>\n",
              "  </thead>\n",
              "  <tbody>\n",
              "    <tr>\n",
              "      <th>0</th>\n",
              "      <td>-0.692312</td>\n",
              "      <td>1.168839</td>\n",
              "      <td>-0.948575</td>\n",
              "      <td>-0.828170</td>\n",
              "      <td>1.238478</td>\n",
              "      <td>0.084979</td>\n",
              "      <td>-0.554451</td>\n",
              "      <td>-0.272511</td>\n",
              "      <td>0.363393</td>\n",
              "      <td>-0.739333</td>\n",
              "      <td>0.348012</td>\n",
              "      <td>0.029305</td>\n",
              "      <td>0.112035</td>\n",
              "      <td>3.805883e-16</td>\n",
              "      <td>-2.203479e-15</td>\n",
              "    </tr>\n",
              "    <tr>\n",
              "      <th>1</th>\n",
              "      <td>-0.889481</td>\n",
              "      <td>-1.383616</td>\n",
              "      <td>-1.145767</td>\n",
              "      <td>-0.153917</td>\n",
              "      <td>1.271073</td>\n",
              "      <td>0.410698</td>\n",
              "      <td>-0.696319</td>\n",
              "      <td>-0.336104</td>\n",
              "      <td>0.506743</td>\n",
              "      <td>0.349960</td>\n",
              "      <td>-0.200946</td>\n",
              "      <td>0.159017</td>\n",
              "      <td>0.164229</td>\n",
              "      <td>1.222019e-16</td>\n",
              "      <td>-1.726606e-15</td>\n",
              "    </tr>\n",
              "    <tr>\n",
              "      <th>2</th>\n",
              "      <td>-0.732203</td>\n",
              "      <td>1.374397</td>\n",
              "      <td>-0.966673</td>\n",
              "      <td>0.074149</td>\n",
              "      <td>1.352883</td>\n",
              "      <td>-0.895542</td>\n",
              "      <td>-0.187004</td>\n",
              "      <td>-0.150627</td>\n",
              "      <td>0.233192</td>\n",
              "      <td>-1.502021</td>\n",
              "      <td>0.843811</td>\n",
              "      <td>-0.033832</td>\n",
              "      <td>0.082631</td>\n",
              "      <td>9.991339e-15</td>\n",
              "      <td>-7.748795e-16</td>\n",
              "    </tr>\n",
              "    <tr>\n",
              "      <th>3</th>\n",
              "      <td>-0.707906</td>\n",
              "      <td>1.070906</td>\n",
              "      <td>-0.938092</td>\n",
              "      <td>-1.098277</td>\n",
              "      <td>1.202958</td>\n",
              "      <td>0.345749</td>\n",
              "      <td>-0.654396</td>\n",
              "      <td>-0.302821</td>\n",
              "      <td>0.388811</td>\n",
              "      <td>-0.616978</td>\n",
              "      <td>0.269148</td>\n",
              "      <td>0.069694</td>\n",
              "      <td>0.130188</td>\n",
              "      <td>1.288982e-14</td>\n",
              "      <td>-4.999153e-15</td>\n",
              "    </tr>\n",
              "    <tr>\n",
              "      <th>4</th>\n",
              "      <td>-0.929056</td>\n",
              "      <td>-1.103199</td>\n",
              "      <td>-1.174624</td>\n",
              "      <td>1.174734</td>\n",
              "      <td>1.441993</td>\n",
              "      <td>-1.043468</td>\n",
              "      <td>-0.143879</td>\n",
              "      <td>-0.153797</td>\n",
              "      <td>0.303911</td>\n",
              "      <td>-0.816759</td>\n",
              "      <td>0.589304</td>\n",
              "      <td>0.039947</td>\n",
              "      <td>0.106483</td>\n",
              "      <td>-2.218268e-15</td>\n",
              "      <td>-4.887403e-15</td>\n",
              "    </tr>\n",
              "    <tr>\n",
              "      <th>...</th>\n",
              "      <td>...</td>\n",
              "      <td>...</td>\n",
              "      <td>...</td>\n",
              "      <td>...</td>\n",
              "      <td>...</td>\n",
              "      <td>...</td>\n",
              "      <td>...</td>\n",
              "      <td>...</td>\n",
              "      <td>...</td>\n",
              "      <td>...</td>\n",
              "      <td>...</td>\n",
              "      <td>...</td>\n",
              "      <td>...</td>\n",
              "      <td>...</td>\n",
              "      <td>...</td>\n",
              "    </tr>\n",
              "    <tr>\n",
              "      <th>27814</th>\n",
              "      <td>-0.373465</td>\n",
              "      <td>-1.456377</td>\n",
              "      <td>0.133420</td>\n",
              "      <td>0.356231</td>\n",
              "      <td>-0.495921</td>\n",
              "      <td>0.230864</td>\n",
              "      <td>0.490857</td>\n",
              "      <td>0.241437</td>\n",
              "      <td>-1.494452</td>\n",
              "      <td>0.328029</td>\n",
              "      <td>0.094328</td>\n",
              "      <td>-0.355805</td>\n",
              "      <td>-0.284931</td>\n",
              "      <td>9.879558e-17</td>\n",
              "      <td>1.661293e-16</td>\n",
              "    </tr>\n",
              "    <tr>\n",
              "      <th>27815</th>\n",
              "      <td>-0.804463</td>\n",
              "      <td>-1.194625</td>\n",
              "      <td>0.168357</td>\n",
              "      <td>1.306242</td>\n",
              "      <td>-0.420254</td>\n",
              "      <td>-0.823714</td>\n",
              "      <td>0.779171</td>\n",
              "      <td>0.369899</td>\n",
              "      <td>-1.581516</td>\n",
              "      <td>-0.565185</td>\n",
              "      <td>0.379032</td>\n",
              "      <td>0.113670</td>\n",
              "      <td>-0.050297</td>\n",
              "      <td>1.953726e-17</td>\n",
              "      <td>-1.316123e-16</td>\n",
              "    </tr>\n",
              "    <tr>\n",
              "      <th>27816</th>\n",
              "      <td>-0.310131</td>\n",
              "      <td>0.811656</td>\n",
              "      <td>0.381412</td>\n",
              "      <td>-1.478654</td>\n",
              "      <td>-0.692927</td>\n",
              "      <td>1.110408</td>\n",
              "      <td>0.137176</td>\n",
              "      <td>0.155604</td>\n",
              "      <td>-1.464469</td>\n",
              "      <td>0.065707</td>\n",
              "      <td>-0.030916</td>\n",
              "      <td>-0.191798</td>\n",
              "      <td>-0.192844</td>\n",
              "      <td>7.532893e-17</td>\n",
              "      <td>7.877698e-17</td>\n",
              "    </tr>\n",
              "    <tr>\n",
              "      <th>27817</th>\n",
              "      <td>-0.525556</td>\n",
              "      <td>-1.636020</td>\n",
              "      <td>0.175013</td>\n",
              "      <td>-0.352558</td>\n",
              "      <td>-0.602307</td>\n",
              "      <td>0.942940</td>\n",
              "      <td>0.180749</td>\n",
              "      <td>0.152975</td>\n",
              "      <td>-1.385654</td>\n",
              "      <td>0.776597</td>\n",
              "      <td>-0.339377</td>\n",
              "      <td>-0.103011</td>\n",
              "      <td>-0.159148</td>\n",
              "      <td>6.684470e-17</td>\n",
              "      <td>6.982112e-17</td>\n",
              "    </tr>\n",
              "    <tr>\n",
              "      <th>27818</th>\n",
              "      <td>-0.675001</td>\n",
              "      <td>-1.349492</td>\n",
              "      <td>0.164743</td>\n",
              "      <td>0.804639</td>\n",
              "      <td>-0.468820</td>\n",
              "      <td>-0.302781</td>\n",
              "      <td>0.618113</td>\n",
              "      <td>0.307003</td>\n",
              "      <td>-1.535055</td>\n",
              "      <td>-0.191185</td>\n",
              "      <td>0.220944</td>\n",
              "      <td>-0.027056</td>\n",
              "      <td>-0.120381</td>\n",
              "      <td>6.957490e-17</td>\n",
              "      <td>1.441550e-17</td>\n",
              "    </tr>\n",
              "  </tbody>\n",
              "</table>\n",
              "<p>27819 rows × 15 columns</p>\n",
              "</div>"
            ],
            "text/plain": [
              "            PC1       PC2       PC3  ...      PC13          PC14          PC15\n",
              "0     -0.692312  1.168839 -0.948575  ...  0.112035  3.805883e-16 -2.203479e-15\n",
              "1     -0.889481 -1.383616 -1.145767  ...  0.164229  1.222019e-16 -1.726606e-15\n",
              "2     -0.732203  1.374397 -0.966673  ...  0.082631  9.991339e-15 -7.748795e-16\n",
              "3     -0.707906  1.070906 -0.938092  ...  0.130188  1.288982e-14 -4.999153e-15\n",
              "4     -0.929056 -1.103199 -1.174624  ...  0.106483 -2.218268e-15 -4.887403e-15\n",
              "...         ...       ...       ...  ...       ...           ...           ...\n",
              "27814 -0.373465 -1.456377  0.133420  ... -0.284931  9.879558e-17  1.661293e-16\n",
              "27815 -0.804463 -1.194625  0.168357  ... -0.050297  1.953726e-17 -1.316123e-16\n",
              "27816 -0.310131  0.811656  0.381412  ... -0.192844  7.532893e-17  7.877698e-17\n",
              "27817 -0.525556 -1.636020  0.175013  ... -0.159148  6.684470e-17  6.982112e-17\n",
              "27818 -0.675001 -1.349492  0.164743  ... -0.120381  6.957490e-17  1.441550e-17\n",
              "\n",
              "[27819 rows x 15 columns]"
            ]
          },
          "metadata": {
            "tags": []
          },
          "execution_count": 30
        }
      ]
    },
    {
      "cell_type": "code",
      "metadata": {
        "id": "pAuw-rTKM7QQ",
        "colab_type": "code",
        "colab": {
          "base_uri": "https://localhost:8080/",
          "height": 85
        },
        "outputId": "2b2a1ac7-a22a-462b-ef90-002fbbb3f960"
      },
      "source": [
        "pca.explained_variance_ratio_"
      ],
      "execution_count": null,
      "outputs": [
        {
          "output_type": "execute_result",
          "data": {
            "text/plain": [
              "array([2.43710121e-01, 1.54228199e-01, 1.04091474e-01, 8.68677591e-02,\n",
              "       7.78941661e-02, 7.34333632e-02, 6.87430612e-02, 6.76522891e-02,\n",
              "       4.05447895e-02, 3.52425912e-02, 2.78886338e-02, 1.23334244e-02,\n",
              "       7.37012800e-03, 4.33795567e-33, 1.28951997e-33])"
            ]
          },
          "metadata": {
            "tags": []
          },
          "execution_count": 31
        }
      ]
    },
    {
      "cell_type": "markdown",
      "metadata": {
        "id": "F4RE2PLiImsT",
        "colab_type": "text"
      },
      "source": [
        "principle component 1 represents 24% of the information of the data. The first 3 principle components can only explain 40% of information from data\n"
      ]
    },
    {
      "cell_type": "code",
      "metadata": {
        "id": "hL686TEUBnFQ",
        "colab_type": "code",
        "colab": {
          "base_uri": "https://localhost:8080/",
          "height": 68
        },
        "outputId": "1c00677e-827d-4bc7-e234-4b230594ab25"
      },
      "source": [
        "#First component is 0.018*year + -0.0018*age + 0.37*suicide_no .....etc. \n",
        "pca.components_[0]"
      ],
      "execution_count": null,
      "outputs": [
        {
          "output_type": "execute_result",
          "data": {
            "text/plain": [
              "array([ 0.0184185 ,  0.00182123,  0.3705665 ,  0.46886401,  0.07856653,\n",
              "        0.43223672,  0.09892634,  0.13987401,  0.20474965,  0.10022963,\n",
              "       -0.45126189,  0.17838215,  0.35799401, -0.04778288,  0.04778288])"
            ]
          },
          "metadata": {
            "tags": []
          },
          "execution_count": 32
        }
      ]
    },
    {
      "cell_type": "code",
      "metadata": {
        "id": "R9CXPlLfHDUW",
        "colab_type": "code",
        "colab": {
          "base_uri": "https://localhost:8080/",
          "height": 360
        },
        "outputId": "324f22fe-99c2-4183-fe11-955ac15c2931"
      },
      "source": [
        "# What columns make up the components 1?\n",
        "(pd.DataFrame(pca.components_, columns=X.columns)\n",
        " .iloc[:1]\n",
        " .plot.bar()\n",
        " .legend(bbox_to_anchor=(1,1)))"
      ],
      "execution_count": null,
      "outputs": [
        {
          "output_type": "execute_result",
          "data": {
            "text/plain": [
              "<matplotlib.legend.Legend at 0x7fcddd3430b8>"
            ]
          },
          "metadata": {
            "tags": []
          },
          "execution_count": 33
        },
        {
          "output_type": "display_data",
          "data": {
            "image/png": "[encoded data removed]",
            "text/plain": [
              "<Figure size 576x396 with 1 Axes>"
            ]
          },
          "metadata": {
            "tags": []
          }
        }
      ]
    },
    {
      "cell_type": "markdown",
      "metadata": {
        "id": "H9TqEC42S_P8",
        "colab_type": "text"
      },
      "source": [
        "Population, gdp_for_year, year and suicide_rate make up principal component 1. This does not surprise me because I expect that GDP and population should represent the most amount of information from the data. Also I have seen that suicide rate differs from year to year so it’s not surprising to see year pops up in principal component 1.  \n"
      ]
    },
    {
      "cell_type": "code",
      "metadata": {
        "id": "6dgDPVOWoku1",
        "colab_type": "code",
        "colab": {
          "base_uri": "https://localhost:8080/",
          "height": 364
        },
        "outputId": "35f84ffa-f707-4fef-8e87-d9e83c187eba"
      },
      "source": [
        "plt.plot(pca.explained_variance_ratio_)"
      ],
      "execution_count": null,
      "outputs": [
        {
          "output_type": "execute_result",
          "data": {
            "text/plain": [
              "[<matplotlib.lines.Line2D at 0x7fcdd8160b00>]"
            ]
          },
          "metadata": {
            "tags": []
          },
          "execution_count": 34
        },
        {
          "output_type": "display_data",
          "data": {
            "image/png": "[encoded data removed]",
            "text/plain": [
              "<Figure size 576x396 with 1 Axes>"
            ]
          },
          "metadata": {
            "tags": []
          }
        }
      ]
    },
    {
      "cell_type": "markdown",
      "metadata": {
        "id": "Prtt_oVLTJJg",
        "colab_type": "text"
      },
      "source": [
        "The first 10 principle component will represent 98% of the information.  "
      ]
    },
    {
      "cell_type": "markdown",
      "metadata": {
        "id": "0mpFUc1OdmMy",
        "colab_type": "text"
      },
      "source": [
        "#Clustering "
      ]
    },
    {
      "cell_type": "code",
      "metadata": {
        "id": "eIWAv103dkW1",
        "colab_type": "code",
        "colab": {
          "base_uri": "https://localhost:8080/",
          "height": 267
        },
        "outputId": "6c9e3ed1-9ed3-426a-908d-f29b49aac496"
      },
      "source": [
        "dend = hierarchy.dendrogram(hierarchy.linkage(X_std, method='ward'),\n",
        "                    truncate_mode='lastp', p=20)"
      ],
      "execution_count": null,
      "outputs": [
        {
          "output_type": "display_data",
          "data": {
            "image/png": "[encoded data removed]",
            "text/plain": [
              "<Figure size 432x288 with 1 Axes>"
            ]
          },
          "metadata": {
            "tags": [],
            "needs_background": "light"
          }
        }
      ]
    },
    {
      "cell_type": "markdown",
      "metadata": {
        "id": "Srib-nsdeyvM",
        "colab_type": "text"
      },
      "source": [
        "Going to choose 4 clusters "
      ]
    },
    {
      "cell_type": "code",
      "metadata": {
        "id": "0FE8Y1G1e3yY",
        "colab_type": "code",
        "colab": {
          "base_uri": "https://localhost:8080/",
          "height": 68
        },
        "outputId": "291a8112-c734-48a5-8a3b-7d5f256c9173"
      },
      "source": [
        "agg = cluster.AgglomerativeClustering(n_clusters=4, affinity='euclidean', linkage = 'ward')\n",
        "agg.fit(X_std)"
      ],
      "execution_count": null,
      "outputs": [
        {
          "output_type": "execute_result",
          "data": {
            "text/plain": [
              "AgglomerativeClustering(affinity='euclidean', compute_full_tree='auto',\n",
              "                        connectivity=None, distance_threshold=None,\n",
              "                        linkage='ward', memory=None, n_clusters=4)"
            ]
          },
          "metadata": {
            "tags": []
          },
          "execution_count": 50
        }
      ]
    },
    {
      "cell_type": "code",
      "metadata": {
        "id": "9wspRPWPgIc1",
        "colab_type": "code",
        "colab": {
          "base_uri": "https://localhost:8080/",
          "height": 34
        },
        "outputId": "3fa79750-fc8a-41b1-b2ed-b6f23a670454"
      },
      "source": [
        "agg.labels_"
      ],
      "execution_count": null,
      "outputs": [
        {
          "output_type": "execute_result",
          "data": {
            "text/plain": [
              "array([1, 2, 1, ..., 1, 2, 2])"
            ]
          },
          "metadata": {
            "tags": []
          },
          "execution_count": 51
        }
      ]
    },
    {
      "cell_type": "code",
      "metadata": {
        "id": "pr2BjyNpgNOc",
        "colab_type": "code",
        "colab": {
          "base_uri": "https://localhost:8080/",
          "height": 979
        },
        "outputId": "1023232c-46d5-45f2-a22b-ac07e14b40b1"
      },
      "source": [
        "(df2\n",
        " .assign(label=agg.labels_)\n",
        " .groupby('label')\n",
        " .agg(['mean','std'])\n",
        " .T)"
      ],
      "execution_count": null,
      "outputs": [
        {
          "output_type": "execute_result",
          "data": {
            "text/html": [
              "<div>\n",
              "<style scoped>\n",
              "    .dataframe tbody tr th:only-of-type {\n",
              "        vertical-align: middle;\n",
              "    }\n",
              "\n",
              "    .dataframe tbody tr th {\n",
              "        vertical-align: top;\n",
              "    }\n",
              "\n",
              "    .dataframe thead th {\n",
              "        text-align: right;\n",
              "    }\n",
              "</style>\n",
              "<table border=\"1\" class=\"dataframe\">\n",
              "  <thead>\n",
              "    <tr style=\"text-align: right;\">\n",
              "      <th></th>\n",
              "      <th>label</th>\n",
              "      <th>0</th>\n",
              "      <th>1</th>\n",
              "      <th>2</th>\n",
              "      <th>3</th>\n",
              "    </tr>\n",
              "  </thead>\n",
              "  <tbody>\n",
              "    <tr>\n",
              "      <th rowspan=\"2\" valign=\"top\">year</th>\n",
              "      <th>mean</th>\n",
              "      <td>2.000450e+03</td>\n",
              "      <td>2.001482e+03</td>\n",
              "      <td>2.001156e+03</td>\n",
              "      <td>2.000000e+03</td>\n",
              "    </tr>\n",
              "    <tr>\n",
              "      <th>std</th>\n",
              "      <td>8.740741e+00</td>\n",
              "      <td>8.473307e+00</td>\n",
              "      <td>8.408498e+00</td>\n",
              "      <td>8.956318e+00</td>\n",
              "    </tr>\n",
              "    <tr>\n",
              "      <th rowspan=\"2\" valign=\"top\">age</th>\n",
              "      <th>mean</th>\n",
              "      <td>3.500000e+01</td>\n",
              "      <td>3.503329e+01</td>\n",
              "      <td>3.504222e+01</td>\n",
              "      <td>3.500000e+01</td>\n",
              "    </tr>\n",
              "    <tr>\n",
              "      <th>std</th>\n",
              "      <td>2.381303e+01</td>\n",
              "      <td>2.381041e+01</td>\n",
              "      <td>2.378347e+01</td>\n",
              "      <td>2.383682e+01</td>\n",
              "    </tr>\n",
              "    <tr>\n",
              "      <th rowspan=\"2\" valign=\"top\">suicides_no</th>\n",
              "      <th>mean</th>\n",
              "      <td>1.634997e+03</td>\n",
              "      <td>1.930769e+02</td>\n",
              "      <td>6.317148e+01</td>\n",
              "      <td>2.779605e+03</td>\n",
              "    </tr>\n",
              "    <tr>\n",
              "      <th>std</th>\n",
              "      <td>2.816542e+03</td>\n",
              "      <td>4.350713e+02</td>\n",
              "      <td>1.472267e+02</td>\n",
              "      <td>2.752716e+03</td>\n",
              "    </tr>\n",
              "    <tr>\n",
              "      <th rowspan=\"2\" valign=\"top\">population</th>\n",
              "      <th>mean</th>\n",
              "      <td>1.041728e+07</td>\n",
              "      <td>1.050921e+06</td>\n",
              "      <td>1.124080e+06</td>\n",
              "      <td>2.165061e+07</td>\n",
              "    </tr>\n",
              "    <tr>\n",
              "      <th>std</th>\n",
              "      <td>5.693951e+06</td>\n",
              "      <td>1.716652e+06</td>\n",
              "      <td>1.773891e+06</td>\n",
              "      <td>9.448630e+06</td>\n",
              "    </tr>\n",
              "    <tr>\n",
              "      <th rowspan=\"2\" valign=\"top\">suicide_rate</th>\n",
              "      <th>mean</th>\n",
              "      <td>1.615019e+01</td>\n",
              "      <td>1.968031e+01</td>\n",
              "      <td>5.317503e+00</td>\n",
              "      <td>1.381981e+01</td>\n",
              "    </tr>\n",
              "    <tr>\n",
              "      <th>std</th>\n",
              "      <td>2.211244e+01</td>\n",
              "      <td>2.332090e+01</td>\n",
              "      <td>7.328911e+00</td>\n",
              "      <td>1.322987e+01</td>\n",
              "    </tr>\n",
              "    <tr>\n",
              "      <th rowspan=\"2\" valign=\"top\">gdp_for_year</th>\n",
              "      <th>mean</th>\n",
              "      <td>1.759846e+12</td>\n",
              "      <td>2.300629e+11</td>\n",
              "      <td>2.276117e+11</td>\n",
              "      <td>1.051071e+13</td>\n",
              "    </tr>\n",
              "    <tr>\n",
              "      <th>std</th>\n",
              "      <td>1.706729e+12</td>\n",
              "      <td>5.019262e+11</td>\n",
              "      <td>5.083991e+11</td>\n",
              "      <td>4.204691e+12</td>\n",
              "    </tr>\n",
              "    <tr>\n",
              "      <th rowspan=\"2\" valign=\"top\">gdp_per_capita</th>\n",
              "      <th>mean</th>\n",
              "      <td>1.428717e+04</td>\n",
              "      <td>1.799861e+04</td>\n",
              "      <td>1.533637e+04</td>\n",
              "      <td>3.926961e+04</td>\n",
              "    </tr>\n",
              "    <tr>\n",
              "      <th>std</th>\n",
              "      <td>1.418825e+04</td>\n",
              "      <td>2.148382e+04</td>\n",
              "      <td>1.590323e+04</td>\n",
              "      <td>1.233412e+04</td>\n",
              "    </tr>\n",
              "    <tr>\n",
              "      <th rowspan=\"2\" valign=\"top\">country_Brazil</th>\n",
              "      <th>mean</th>\n",
              "      <td>2.583333e-01</td>\n",
              "      <td>0.000000e+00</td>\n",
              "      <td>0.000000e+00</td>\n",
              "      <td>0.000000e+00</td>\n",
              "    </tr>\n",
              "    <tr>\n",
              "      <th>std</th>\n",
              "      <td>4.378703e-01</td>\n",
              "      <td>0.000000e+00</td>\n",
              "      <td>0.000000e+00</td>\n",
              "      <td>0.000000e+00</td>\n",
              "    </tr>\n",
              "    <tr>\n",
              "      <th rowspan=\"2\" valign=\"top\">country_Japan</th>\n",
              "      <th>mean</th>\n",
              "      <td>2.583333e-01</td>\n",
              "      <td>0.000000e+00</td>\n",
              "      <td>0.000000e+00</td>\n",
              "      <td>0.000000e+00</td>\n",
              "    </tr>\n",
              "    <tr>\n",
              "      <th>std</th>\n",
              "      <td>4.378703e-01</td>\n",
              "      <td>0.000000e+00</td>\n",
              "      <td>0.000000e+00</td>\n",
              "      <td>0.000000e+00</td>\n",
              "    </tr>\n",
              "    <tr>\n",
              "      <th rowspan=\"2\" valign=\"top\">country_Mexico</th>\n",
              "      <th>mean</th>\n",
              "      <td>2.583333e-01</td>\n",
              "      <td>0.000000e+00</td>\n",
              "      <td>0.000000e+00</td>\n",
              "      <td>0.000000e+00</td>\n",
              "    </tr>\n",
              "    <tr>\n",
              "      <th>std</th>\n",
              "      <td>4.378703e-01</td>\n",
              "      <td>0.000000e+00</td>\n",
              "      <td>0.000000e+00</td>\n",
              "      <td>0.000000e+00</td>\n",
              "    </tr>\n",
              "    <tr>\n",
              "      <th rowspan=\"2\" valign=\"top\">country_Other</th>\n",
              "      <th>mean</th>\n",
              "      <td>0.000000e+00</td>\n",
              "      <td>1.000000e+00</td>\n",
              "      <td>1.000000e+00</td>\n",
              "      <td>0.000000e+00</td>\n",
              "    </tr>\n",
              "    <tr>\n",
              "      <th>std</th>\n",
              "      <td>0.000000e+00</td>\n",
              "      <td>0.000000e+00</td>\n",
              "      <td>0.000000e+00</td>\n",
              "      <td>0.000000e+00</td>\n",
              "    </tr>\n",
              "    <tr>\n",
              "      <th rowspan=\"2\" valign=\"top\">country_Russian Federation</th>\n",
              "      <th>mean</th>\n",
              "      <td>2.250000e-01</td>\n",
              "      <td>0.000000e+00</td>\n",
              "      <td>0.000000e+00</td>\n",
              "      <td>0.000000e+00</td>\n",
              "    </tr>\n",
              "    <tr>\n",
              "      <th>std</th>\n",
              "      <td>4.177274e-01</td>\n",
              "      <td>0.000000e+00</td>\n",
              "      <td>0.000000e+00</td>\n",
              "      <td>0.000000e+00</td>\n",
              "    </tr>\n",
              "    <tr>\n",
              "      <th rowspan=\"2\" valign=\"top\">country_United States</th>\n",
              "      <th>mean</th>\n",
              "      <td>0.000000e+00</td>\n",
              "      <td>0.000000e+00</td>\n",
              "      <td>0.000000e+00</td>\n",
              "      <td>1.000000e+00</td>\n",
              "    </tr>\n",
              "    <tr>\n",
              "      <th>std</th>\n",
              "      <td>0.000000e+00</td>\n",
              "      <td>0.000000e+00</td>\n",
              "      <td>0.000000e+00</td>\n",
              "      <td>0.000000e+00</td>\n",
              "    </tr>\n",
              "    <tr>\n",
              "      <th rowspan=\"2\" valign=\"top\">sex_female</th>\n",
              "      <th>mean</th>\n",
              "      <td>5.000000e-01</td>\n",
              "      <td>1.626570e-02</td>\n",
              "      <td>1.000000e+00</td>\n",
              "      <td>5.000000e-01</td>\n",
              "    </tr>\n",
              "    <tr>\n",
              "      <th>std</th>\n",
              "      <td>5.001737e-01</td>\n",
              "      <td>1.265003e-01</td>\n",
              "      <td>0.000000e+00</td>\n",
              "      <td>5.006734e-01</td>\n",
              "    </tr>\n",
              "    <tr>\n",
              "      <th rowspan=\"2\" valign=\"top\">sex_male</th>\n",
              "      <th>mean</th>\n",
              "      <td>5.000000e-01</td>\n",
              "      <td>9.837343e-01</td>\n",
              "      <td>0.000000e+00</td>\n",
              "      <td>5.000000e-01</td>\n",
              "    </tr>\n",
              "    <tr>\n",
              "      <th>std</th>\n",
              "      <td>5.001737e-01</td>\n",
              "      <td>1.265003e-01</td>\n",
              "      <td>0.000000e+00</td>\n",
              "      <td>5.006734e-01</td>\n",
              "    </tr>\n",
              "  </tbody>\n",
              "</table>\n",
              "</div>"
            ],
            "text/plain": [
              "label                                       0  ...             3\n",
              "year                       mean  2.000450e+03  ...  2.000000e+03\n",
              "                           std   8.740741e+00  ...  8.956318e+00\n",
              "age                        mean  3.500000e+01  ...  3.500000e+01\n",
              "                           std   2.381303e+01  ...  2.383682e+01\n",
              "suicides_no                mean  1.634997e+03  ...  2.779605e+03\n",
              "                           std   2.816542e+03  ...  2.752716e+03\n",
              "population                 mean  1.041728e+07  ...  2.165061e+07\n",
              "                           std   5.693951e+06  ...  9.448630e+06\n",
              "suicide_rate               mean  1.615019e+01  ...  1.381981e+01\n",
              "                           std   2.211244e+01  ...  1.322987e+01\n",
              "gdp_for_year               mean  1.759846e+12  ...  1.051071e+13\n",
              "                           std   1.706729e+12  ...  4.204691e+12\n",
              "gdp_per_capita             mean  1.428717e+04  ...  3.926961e+04\n",
              "                           std   1.418825e+04  ...  1.233412e+04\n",
              "country_Brazil             mean  2.583333e-01  ...  0.000000e+00\n",
              "                           std   4.378703e-01  ...  0.000000e+00\n",
              "country_Japan              mean  2.583333e-01  ...  0.000000e+00\n",
              "                           std   4.378703e-01  ...  0.000000e+00\n",
              "country_Mexico             mean  2.583333e-01  ...  0.000000e+00\n",
              "                           std   4.378703e-01  ...  0.000000e+00\n",
              "country_Other              mean  0.000000e+00  ...  0.000000e+00\n",
              "                           std   0.000000e+00  ...  0.000000e+00\n",
              "country_Russian Federation mean  2.250000e-01  ...  0.000000e+00\n",
              "                           std   4.177274e-01  ...  0.000000e+00\n",
              "country_United States      mean  0.000000e+00  ...  1.000000e+00\n",
              "                           std   0.000000e+00  ...  0.000000e+00\n",
              "sex_female                 mean  5.000000e-01  ...  5.000000e-01\n",
              "                           std   5.001737e-01  ...  5.006734e-01\n",
              "sex_male                   mean  5.000000e-01  ...  5.000000e-01\n",
              "                           std   5.001737e-01  ...  5.006734e-01\n",
              "\n",
              "[30 rows x 4 columns]"
            ]
          },
          "metadata": {
            "tags": []
          },
          "execution_count": 52
        }
      ]
    },
    {
      "cell_type": "code",
      "metadata": {
        "id": "-p71fcqkg214",
        "colab_type": "code",
        "colab": {
          "base_uri": "https://localhost:8080/",
          "height": 408
        },
        "outputId": "1ef3c24d-0264-41ca-8e4a-74dbad663105"
      },
      "source": [
        "(df2\n",
        " .assign(label=agg.labels_)\n",
        " .groupby('label')\n",
        " .mean()\n",
        " .T\n",
        " .plot.bar()\n",
        " )"
      ],
      "execution_count": null,
      "outputs": [
        {
          "output_type": "execute_result",
          "data": {
            "text/plain": [
              "<matplotlib.axes._subplots.AxesSubplot at 0x7fcdd7aef160>"
            ]
          },
          "metadata": {
            "tags": []
          },
          "execution_count": 53
        },
        {
          "output_type": "display_data",
          "data": {
            "image/png": "[encoded data removed]",
            "text/plain": [
              "<Figure size 432x288 with 1 Axes>"
            ]
          },
          "metadata": {
            "tags": [],
            "needs_background": "light"
          }
        }
      ]
    },
    {
      "cell_type": "markdown",
      "metadata": {
        "id": "ykRVZEAGjwf-",
        "colab_type": "text"
      },
      "source": [
        "The four clusters are pretty much purely separated by gdp for the year. That aligns with my hypothesis: suicide rate is highly determined by gdp for the year. "
      ]
    }
  ]
}