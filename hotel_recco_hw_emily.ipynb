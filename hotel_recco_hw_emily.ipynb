{
  "nbformat": 4,
  "nbformat_minor": 0,
  "metadata": {
    "colab": {
      "name": "hotel_recco_hw_emily.ipynb",
      "provenance": [],
      "include_colab_link": true
    },
    "kernelspec": {
      "name": "python3",
      "display_name": "Python 3"
    }
  },
  "cells": [
    {
      "cell_type": "markdown",
      "metadata": {
        "id": "view-in-github",
        "colab_type": "text"
      },
      "source": [
        "<a href=\"https://colab.research.google.com/github/tempcheng/python_homework/blob/master/hotel_recco_hw_emily.ipynb\" target=\"_parent\"><img src=\"https://colab.research.google.com/assets/colab-badge.svg\" alt=\"Open In Colab\"/></a>"
      ]
    },
    {
      "cell_type": "code",
      "metadata": {
        "id": "seBb08lhsd47",
        "colab_type": "code",
        "colab": {}
      },
      "source": [
        "import pandas as pd\n",
        "from sklearn.feature_extraction.text import TfidfVectorizer\n",
        "from sklearn.metrics.pairwise import cosine_similarity\n"
      ],
      "execution_count": null,
      "outputs": []
    },
    {
      "cell_type": "code",
      "metadata": {
        "id": "r1S79gaWbjuv",
        "colab_type": "code",
        "colab": {
          "resources": {
            "http://localhost:8080/nbextensions/google.colab/files.js": {
              "data": "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",
              "ok": true,
              "headers": [
                [
                  "content-type",
                  "application/javascript"
                ]
              ],
              "status": 200,
              "status_text": ""
            }
          },
          "base_uri": "https://localhost:8080/",
          "height": 72
        },
        "outputId": "95c49503-dbc2-41f2-cc50-391e5f8136f4"
      },
      "source": [
        "from google.colab import files\n",
        "uploaded = files.upload()\n"
      ],
      "execution_count": null,
      "outputs": [
        {
          "output_type": "display_data",
          "data": {
            "text/html": [
              "\n",
              "     <input type=\"file\" id=\"files-d240e75f-f15a-4eb5-8dc5-5c3bff493b11\" name=\"files[]\" multiple disabled\n",
              "        style=\"border:none\" />\n",
              "     <output id=\"result-d240e75f-f15a-4eb5-8dc5-5c3bff493b11\">\n",
              "      Upload widget is only available when the cell has been executed in the\n",
              "      current browser session. Please rerun this cell to enable.\n",
              "      </output>\n",
              "      <script src=\"/nbextensions/google.colab/files.js\"></script> "
            ],
            "text/plain": [
              "<IPython.core.display.HTML object>"
            ]
          },
          "metadata": {
            "tags": []
          }
        },
        {
          "output_type": "stream",
          "text": [
            "Saving booking_com-travel_sample.csv to booking_com-travel_sample.csv\n"
          ],
          "name": "stdout"
        }
      ]
    },
    {
      "cell_type": "code",
      "metadata": {
        "id": "ZttTHK3SdyVb",
        "colab_type": "code",
        "colab": {}
      },
      "source": [
        "import io\n",
        "hotels = pd.read_csv(io.BytesIO(uploaded['booking_com-travel_sample.csv']))"
      ],
      "execution_count": null,
      "outputs": []
    },
    {
      "cell_type": "code",
      "metadata": {
        "id": "BLWbLXNixC3p",
        "colab_type": "code",
        "colab": {
          "base_uri": "https://localhost:8080/",
          "height": 496
        },
        "outputId": "757542dd-ed81-4d10-b428-b30654ce74b5"
      },
      "source": [
        "hotels.head()"
      ],
      "execution_count": null,
      "outputs": [
        {
          "output_type": "execute_result",
          "data": {
            "text/html": [
              "<div>\n",
              "<style scoped>\n",
              "    .dataframe tbody tr th:only-of-type {\n",
              "        vertical-align: middle;\n",
              "    }\n",
              "\n",
              "    .dataframe tbody tr th {\n",
              "        vertical-align: top;\n",
              "    }\n",
              "\n",
              "    .dataframe thead th {\n",
              "        text-align: right;\n",
              "    }\n",
              "</style>\n",
              "<table border=\"1\" class=\"dataframe\">\n",
              "  <thead>\n",
              "    <tr style=\"text-align: right;\">\n",
              "      <th></th>\n",
              "      <th>address</th>\n",
              "      <th>city</th>\n",
              "      <th>country</th>\n",
              "      <th>crawl_date</th>\n",
              "      <th>hotel_brand</th>\n",
              "      <th>hotel_description</th>\n",
              "      <th>hotel_facilities</th>\n",
              "      <th>hotel_star_rating</th>\n",
              "      <th>image_count</th>\n",
              "      <th>latitude</th>\n",
              "      <th>locality</th>\n",
              "      <th>longitude</th>\n",
              "      <th>pageurl</th>\n",
              "      <th>property_id</th>\n",
              "      <th>property_name</th>\n",
              "      <th>property_type</th>\n",
              "      <th>province</th>\n",
              "      <th>qts</th>\n",
              "      <th>room_count</th>\n",
              "      <th>room_type</th>\n",
              "      <th>similar_hotel</th>\n",
              "      <th>site_review_count</th>\n",
              "      <th>site_review_rating</th>\n",
              "      <th>site_stay_review_rating</th>\n",
              "      <th>sitename</th>\n",
              "      <th>special_tag</th>\n",
              "      <th>state</th>\n",
              "      <th>uniq_id</th>\n",
              "      <th>zone</th>\n",
              "    </tr>\n",
              "  </thead>\n",
              "  <tbody>\n",
              "    <tr>\n",
              "      <th>0</th>\n",
              "      <td>KHIRSU, 246147 Pauri, India – Great location -</td>\n",
              "      <td>pauri</td>\n",
              "      <td>India</td>\n",
              "      <td>2016-09-01</td>\n",
              "      <td>NaN</td>\n",
              "      <td>Khirsu By GMVN offers accommodation in Pauri. ...</td>\n",
              "      <td>Bathroom:Toilet paper|Linen|Towels|Bathroom|To...</td>\n",
              "      <td>NaN</td>\n",
              "      <td>3.0</td>\n",
              "      <td>30.123749</td>\n",
              "      <td>NaN</td>\n",
              "      <td>78.793774</td>\n",
              "      <td>http://www.booking.com/hotel/in/khirsu-by-gmvn...</td>\n",
              "      <td>1742658.0</td>\n",
              "      <td>Khirsu By GMVN</td>\n",
              "      <td>204</td>\n",
              "      <td>NaN</td>\n",
              "      <td>2016-09-01 11:52:38 +0000</td>\n",
              "      <td>18.0</td>\n",
              "      <td>Economy Double Room</td>\n",
              "      <td>Hotel Mandakini</td>\n",
              "      <td>NaN</td>\n",
              "      <td>NaN</td>\n",
              "      <td>NaN</td>\n",
              "      <td>http://www.booking.com/</td>\n",
              "      <td>Share</td>\n",
              "      <td>Uttarakhand</td>\n",
              "      <td>a5ea72415f8007fcbe65759830fdd3d9</td>\n",
              "      <td>NaN</td>\n",
              "    </tr>\n",
              "    <tr>\n",
              "      <th>1</th>\n",
              "      <td>Kaathadimattam, Balacola Post, NEAR Siva Tea F...</td>\n",
              "      <td>ooty</td>\n",
              "      <td>India</td>\n",
              "      <td>2016-09-01</td>\n",
              "      <td>NaN</td>\n",
              "      <td>Situated in Ooty in the Tamil Nadu Region, 8 k...</td>\n",
              "      <td>Bathroom:Toilet paper|Linen|Towels|Bidet|Towel...</td>\n",
              "      <td>3 stars</td>\n",
              "      <td>NaN</td>\n",
              "      <td>11.329595</td>\n",
              "      <td>NaN</td>\n",
              "      <td>76.686732</td>\n",
              "      <td>http://www.booking.com/hotel/in/global-village...</td>\n",
              "      <td>1755986.0</td>\n",
              "      <td>Global Village Ooty</td>\n",
              "      <td>212</td>\n",
              "      <td>NaN</td>\n",
              "      <td>2016-09-01 11:52:38 +0000</td>\n",
              "      <td>10.0</td>\n",
              "      <td>British Empire Chalet</td>\n",
              "      <td>Treebo Yantra Leisures|Western Valley Resorts|...</td>\n",
              "      <td>5</td>\n",
              "      <td>7.6</td>\n",
              "      <td>Location:8.5|Staff:8|Cleanliness:7.5|Comfort:7...</td>\n",
              "      <td>http://www.booking.com/</td>\n",
              "      <td>Share</td>\n",
              "      <td>Tamil Nadu</td>\n",
              "      <td>7e0b055417271bbd9dae902f3e231ed4</td>\n",
              "      <td>NaN</td>\n",
              "    </tr>\n",
              "    <tr>\n",
              "      <th>2</th>\n",
              "      <td>PIPALKOTI, 246472 Pīpalkoti, India – Show map</td>\n",
              "      <td>pīpalkoti</td>\n",
              "      <td>India</td>\n",
              "      <td>2016-09-01</td>\n",
              "      <td>NaN</td>\n",
              "      <td>TRH Pipalkoti offers accommodation in Pīpalkot...</td>\n",
              "      <td>Bathroom:Toilet paper|Linen|Towels|Bathroom•Vi...</td>\n",
              "      <td>NaN</td>\n",
              "      <td>4.0</td>\n",
              "      <td>30.429540</td>\n",
              "      <td>NaN</td>\n",
              "      <td>79.428116</td>\n",
              "      <td>http://www.booking.com/hotel/in/trh-pipalkoti....</td>\n",
              "      <td>1741747.0</td>\n",
              "      <td>TRH Pipalkoti</td>\n",
              "      <td>204</td>\n",
              "      <td>NaN</td>\n",
              "      <td>2016-09-01 11:52:38 +0000</td>\n",
              "      <td>28.0</td>\n",
              "      <td>Economy Double Room</td>\n",
              "      <td>TRH Joshimath (New)</td>\n",
              "      <td>NaN</td>\n",
              "      <td>NaN</td>\n",
              "      <td>NaN</td>\n",
              "      <td>http://www.booking.com/</td>\n",
              "      <td>Share</td>\n",
              "      <td>Uttarakhand</td>\n",
              "      <td>72c0af09827bbb620365aa5df523ba1d</td>\n",
              "      <td>NaN</td>\n",
              "    </tr>\n",
              "    <tr>\n",
              "      <th>3</th>\n",
              "      <td>1 KARIYIL HOUSE KUMARAKOM NORTH PO KOTTAYAM, 6...</td>\n",
              "      <td>kumarakom</td>\n",
              "      <td>India</td>\n",
              "      <td>2016-09-01</td>\n",
              "      <td>NaN</td>\n",
              "      <td>Swasti house boat 2 is located in Kumarakom, 3...</td>\n",
              "      <td>Bathroom:Toilet paper|Towels|Bath|Shower•Bedro...</td>\n",
              "      <td>NaN</td>\n",
              "      <td>2.0</td>\n",
              "      <td>9.616057</td>\n",
              "      <td>NaN</td>\n",
              "      <td>76.428269</td>\n",
              "      <td>http://www.booking.com/hotel/in/swasti-house-b...</td>\n",
              "      <td>1747392.0</td>\n",
              "      <td>Swasti house boat 2</td>\n",
              "      <td>204</td>\n",
              "      <td>NaN</td>\n",
              "      <td>2016-09-01 11:52:38 +0000</td>\n",
              "      <td>1.0</td>\n",
              "      <td>Deluxe Room</td>\n",
              "      <td>NaN</td>\n",
              "      <td>NaN</td>\n",
              "      <td>NaN</td>\n",
              "      <td>NaN</td>\n",
              "      <td>http://www.booking.com/</td>\n",
              "      <td>Share</td>\n",
              "      <td>Kerala</td>\n",
              "      <td>eb6fd33d99aa4a8088caa8f3ecb08275</td>\n",
              "      <td>NaN</td>\n",
              "    </tr>\n",
              "    <tr>\n",
              "      <th>4</th>\n",
              "      <td>Kavanattinkara, 686563 Kumarakom, India – Show...</td>\n",
              "      <td>kumarakom</td>\n",
              "      <td>India</td>\n",
              "      <td>2016-09-01</td>\n",
              "      <td>NaN</td>\n",
              "      <td>Amrutham Houseboat 2 is set in Kumarakom, 5 km...</td>\n",
              "      <td>Bathroom:Toilet paper|Linen|Towels|Towels/Shee...</td>\n",
              "      <td>NaN</td>\n",
              "      <td>NaN</td>\n",
              "      <td>9.632854</td>\n",
              "      <td>NaN</td>\n",
              "      <td>76.423570</td>\n",
              "      <td>http://www.booking.com/hotel/in/amrutham-house...</td>\n",
              "      <td>1744962.0</td>\n",
              "      <td>Amrutham Houseboat 2</td>\n",
              "      <td>215</td>\n",
              "      <td>NaN</td>\n",
              "      <td>2016-09-01 11:52:38 +0000</td>\n",
              "      <td>2.0</td>\n",
              "      <td>Mobile Home</td>\n",
              "      <td>Mandala Beach House &amp; Cottages</td>\n",
              "      <td>NaN</td>\n",
              "      <td>NaN</td>\n",
              "      <td>NaN</td>\n",
              "      <td>http://www.booking.com/</td>\n",
              "      <td>Share</td>\n",
              "      <td>Kerala</td>\n",
              "      <td>0814d9af7ad808863c04db8f30437c57</td>\n",
              "      <td>NaN</td>\n",
              "    </tr>\n",
              "  </tbody>\n",
              "</table>\n",
              "</div>"
            ],
            "text/plain": [
              "                                             address  ... zone\n",
              "0     KHIRSU, 246147 Pauri, India – Great location -  ...  NaN\n",
              "1  Kaathadimattam, Balacola Post, NEAR Siva Tea F...  ...  NaN\n",
              "2      PIPALKOTI, 246472 Pīpalkoti, India – Show map  ...  NaN\n",
              "3  1 KARIYIL HOUSE KUMARAKOM NORTH PO KOTTAYAM, 6...  ...  NaN\n",
              "4  Kavanattinkara, 686563 Kumarakom, India – Show...  ...  NaN\n",
              "\n",
              "[5 rows x 29 columns]"
            ]
          },
          "metadata": {
            "tags": []
          },
          "execution_count": 28
        }
      ]
    },
    {
      "cell_type": "code",
      "metadata": {
        "id": "B6ushOfcxjmQ",
        "colab_type": "code",
        "colab": {
          "base_uri": "https://localhost:8080/",
          "height": 119
        },
        "outputId": "13773e80-9c86-48a6-8d80-9a500a519c8f"
      },
      "source": [
        "hotels['hotel_description'].head()"
      ],
      "execution_count": null,
      "outputs": [
        {
          "output_type": "execute_result",
          "data": {
            "text/plain": [
              "0    Khirsu By GMVN offers accommodation in Pauri. ...\n",
              "1    Situated in Ooty in the Tamil Nadu Region, 8 k...\n",
              "2    TRH Pipalkoti offers accommodation in Pīpalkot...\n",
              "3    Swasti house boat 2 is located in Kumarakom, 3...\n",
              "4    Amrutham Houseboat 2 is set in Kumarakom, 5 km...\n",
              "Name: hotel_description, dtype: object"
            ]
          },
          "metadata": {
            "tags": []
          },
          "execution_count": 29
        }
      ]
    },
    {
      "cell_type": "code",
      "metadata": {
        "id": "deNzRpDMywc8",
        "colab_type": "code",
        "colab": {
          "base_uri": "https://localhost:8080/",
          "height": 34
        },
        "outputId": "d49a9013-17e9-458f-c82e-ed548e603692"
      },
      "source": [
        "#Define a TF-IDF Vectorizer Object. Remove all english stop words such as 'the', 'a'\n",
        "tfidf = TfidfVectorizer(stop_words='english')\n",
        "\n",
        "#Replace NaN with an empty string\n",
        "hotels['hotel_description'] = hotels['hotel_description'].fillna('')\n",
        "\n",
        "#Construct the required TF-IDF matrix by fitting and transforming the data\n",
        "tfidf_matrix = tfidf.fit_transform(hotels['hotel_description'])\n",
        "\n",
        "#Output the shape of tfidf_matrix\n",
        "tfidf_matrix.shape"
      ],
      "execution_count": null,
      "outputs": [
        {
          "output_type": "execute_result",
          "data": {
            "text/plain": [
              "(6000, 5249)"
            ]
          },
          "metadata": {
            "tags": []
          },
          "execution_count": 30
        }
      ]
    },
    {
      "cell_type": "code",
      "metadata": {
        "id": "pOvMLmR7zTjd",
        "colab_type": "code",
        "colab": {}
      },
      "source": [
        "from sklearn.metrics.pairwise import cosine_similarity\n",
        "\n",
        "cosine_sim = cosine_similarity(tfidf_matrix, tfidf_matrix)"
      ],
      "execution_count": null,
      "outputs": []
    },
    {
      "cell_type": "code",
      "metadata": {
        "id": "qUF1jR1b1TKN",
        "colab_type": "code",
        "colab": {
          "base_uri": "https://localhost:8080/",
          "height": 34
        },
        "outputId": "d572b978-15a6-4acc-fe9e-ba8c71bcf64a"
      },
      "source": [
        "cosine_sim.shape"
      ],
      "execution_count": null,
      "outputs": [
        {
          "output_type": "execute_result",
          "data": {
            "text/plain": [
              "(6000, 6000)"
            ]
          },
          "metadata": {
            "tags": []
          },
          "execution_count": 32
        }
      ]
    },
    {
      "cell_type": "code",
      "metadata": {
        "id": "W3EVeecb1bR6",
        "colab_type": "code",
        "colab": {}
      },
      "source": [
        "indices = pd.Series(hotels.index, index=hotels['property_name']).drop_duplicates()"
      ],
      "execution_count": null,
      "outputs": []
    },
    {
      "cell_type": "code",
      "metadata": {
        "id": "mKymvZ0R14iL",
        "colab_type": "code",
        "colab": {
          "base_uri": "https://localhost:8080/",
          "height": 221
        },
        "outputId": "0e917b86-82a9-4c92-80c2-8a71d851dc6e"
      },
      "source": [
        "indices[:10]"
      ],
      "execution_count": null,
      "outputs": [
        {
          "output_type": "execute_result",
          "data": {
            "text/plain": [
              "property_name\n",
              "Khirsu By GMVN          0\n",
              "Global Village Ooty     1\n",
              "TRH Pipalkoti           2\n",
              "Swasti house boat 2     3\n",
              "Amrutham Houseboat 2    4\n",
              "The Hill Side           5\n",
              "Hotel Mountain Face     6\n",
              "Rahi Motel Haridwar     7\n",
              "Swasti house boat 4     8\n",
              "NaN                     9\n",
              "dtype: int64"
            ]
          },
          "metadata": {
            "tags": []
          },
          "execution_count": 34
        }
      ]
    },
    {
      "cell_type": "code",
      "metadata": {
        "id": "hNyI8bJO151z",
        "colab_type": "code",
        "colab": {}
      },
      "source": [
        "def get_recommendations(property_name, cosine_sim=cosine_sim):\n",
        "    # Get the index of the property that matches the title\n",
        "    idx = indices[property_name]\n",
        "\n",
        "    if isinstance(idx, pd.core.series.Series):\n",
        "       idx = idx[0]\n",
        "\n",
        "    sim_scores = list(enumerate(cosine_sim[idx]))\n",
        "\n",
        "    sim_scores = sorted(sim_scores, key=lambda x: x[1], reverse=True)\n",
        "\n",
        "    sim_scores = sim_scores[1:20]\n",
        "\n",
        "    hotel_indices = [i[0] for i in sim_scores]\n",
        "\n",
        "    return hotels['property_name'].iloc[hotel_indices]"
      ],
      "execution_count": null,
      "outputs": []
    },
    {
      "cell_type": "code",
      "metadata": {
        "id": "GprBVSfX2cnu",
        "colab_type": "code",
        "colab": {
          "base_uri": "https://localhost:8080/",
          "height": 357
        },
        "outputId": "dbd7a188-dbf2-467d-bef8-9dcb3250622f"
      },
      "source": [
        "get_recommendations('Khirsu By GMVN')"
      ],
      "execution_count": null,
      "outputs": [
        {
          "output_type": "execute_result",
          "data": {
            "text/plain": [
              "4585                   Hotel Grand Plaza\n",
              "13                           Grand Hotel\n",
              "3047                   Hotel N.M.R.Plaza\n",
              "3051                   Hotel N.M.R.Plaza\n",
              "51                 Hotel Royal Residency\n",
              "175                Hotel Royal Residency\n",
              "199                         Ekant Resort\n",
              "4112    Vista Rooms near Railway Station\n",
              "4337    Vista Rooms near Railway Station\n",
              "276                    Home In The Hills\n",
              "315                    Home In The Hills\n",
              "327                    Home In The Hills\n",
              "7                    Rahi Motel Haridwar\n",
              "5616                   Ark Inn Residency\n",
              "5686                   Ark Inn Residency\n",
              "5811                   Ark Inn Residency\n",
              "5866                   Ark Inn Residency\n",
              "4151              Blue Diamond The Hotel\n",
              "4157              Blue Diamond The Hotel\n",
              "Name: property_name, dtype: object"
            ]
          },
          "metadata": {
            "tags": []
          },
          "execution_count": 36
        }
      ]
    },
    {
      "cell_type": "markdown",
      "metadata": {
        "id": "C3uQ3Qd1voEJ",
        "colab_type": "text"
      },
      "source": [
        ""
      ]
    },
    {
      "cell_type": "code",
      "metadata": {
        "id": "kZKsUjB3en-H",
        "colab_type": "code",
        "colab": {}
      },
      "source": [
        "A = hotels.loc[hotels['property_name'] == 'Home In The Hills']\n",
        "\n"
      ],
      "execution_count": null,
      "outputs": []
    },
    {
      "cell_type": "code",
      "metadata": {
        "id": "_CR4iuA9hgd4",
        "colab_type": "code",
        "colab": {
          "base_uri": "https://localhost:8080/",
          "height": 85
        },
        "outputId": "34337b79-f53b-44fe-b236-2179f1d657f7"
      },
      "source": [
        "A['hotel_description']"
      ],
      "execution_count": null,
      "outputs": [
        {
          "output_type": "execute_result",
          "data": {
            "text/plain": [
              "276    Featuring free WiFi and a children's playgroun...\n",
              "315    Featuring free WiFi and a children's playgroun...\n",
              "327    Featuring free WiFi and a children's playgroun...\n",
              "Name: hotel_description, dtype: object"
            ]
          },
          "metadata": {
            "tags": []
          },
          "execution_count": 43
        }
      ]
    },
    {
      "cell_type": "code",
      "metadata": {
        "id": "oJ2uPKYHe3H2",
        "colab_type": "code",
        "colab": {}
      },
      "source": [
        ""
      ],
      "execution_count": null,
      "outputs": []
    }
  ]
}